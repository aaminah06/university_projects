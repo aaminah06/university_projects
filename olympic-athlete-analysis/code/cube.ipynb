{
 "cells": [
  {
   "cell_type": "markdown",
   "metadata": {},
   "source": [
    "### Create Cube: Hierarchies, levels and measures"
   ]
  },
  {
   "cell_type": "code",
   "execution_count": 1,
   "metadata": {},
   "outputs": [
    {
     "name": "stdout",
     "output_type": "stream",
     "text": [
      "Connection to PostgreSQL DB successful\n"
     ]
    }
   ],
   "source": [
    "# Connect to Olympics Database\n",
    "import os\n",
    "import psycopg2\n",
    "from psycopg2 import OperationalError\n",
    "from dotenv import load_dotenv\n",
    "import psycopg2\n",
    "from psycopg2 import OperationalError\n",
    " \n",
    "# Load environment variables\n",
    "load_dotenv()\n",
    "\n",
    "def create_connection():\n",
    "    connection = None\n",
    "    try:\n",
    "        connection = psycopg2.connect(\n",
    "            database=os.getenv('DB_NAME'),\n",
    "            user=os.getenv('DB_USER'),\n",
    "            password=os.getenv('DB_PASSWORD'),\n",
    "            host=os.getenv('DB_HOST'),\n",
    "            port=os.getenv('DB_PORT'),\n",
    "        )\n",
    "        print(\"Connection to PostgreSQL DB successful\")\n",
    "    except OperationalError as e:\n",
    "        print(f\"The error '{e}' occurred\")\n",
    "    return connection\n",
    "\n",
    "# Create the connection\n",
    "conn = create_connection()\n",
    " "
   ]
  },
  {
   "cell_type": "code",
   "execution_count": 2,
   "metadata": {},
   "outputs": [
    {
     "name": "stderr",
     "output_type": "stream",
     "text": [
      "C:\\Users\\61470\\AppData\\Roaming\\Python\\Python39\\site-packages\\pandas\\core\\computation\\expressions.py:21: UserWarning: Pandas requires version '2.8.4' or newer of 'numexpr' (version '2.8.1' currently installed).\n",
      "  from pandas.core.computation.check import NUMEXPR_INSTALLED\n",
      "C:\\Users\\61470\\AppData\\Roaming\\Python\\Python39\\site-packages\\pandas\\core\\arrays\\masked.py:60: UserWarning: Pandas requires version '1.3.6' or newer of 'bottleneck' (version '1.3.4' currently installed).\n",
      "  from pandas.core import (\n"
     ]
    },
    {
     "name": "stdout",
     "output_type": "stream",
     "text": [
      "Welcome to Atoti 0.8.10!\n",
      "\n",
      "By using this community edition, you agree with the license available at https://docs.atoti.io/latest/eula.html.\n",
      "Browse the official documentation at https://docs.atoti.io.\n",
      "Join the community at https://www.atoti.io/register.\n",
      "\n",
      "Atoti collects telemetry data, which is used to help understand how to improve the product.\n",
      "If you don't wish to send usage data, you can request a trial license at https://www.atoti.io/evaluation-license-request.\n",
      "\n",
      "You can hide this message by setting the `ATOTI_HIDE_EULA_MESSAGE` environment variable to True.\n"
     ]
    }
   ],
   "source": [
    "import pandas as pd\n",
    "import atoti as tt\n",
    "session = tt.Session()\n",
    "#jdbc_url = f\"jdbc:postgresql://{db_host}:{db_port}/{db_name}?user={db_user}&password={db_password}\"\n"
   ]
  },
  {
   "cell_type": "code",
   "execution_count": 3,
   "metadata": {},
   "outputs": [],
   "source": [
    "\n",
    "\n",
    "# Read the tables into the atoti session\n",
    "athlete_table = session.read_sql(\n",
    "    \"SELECT * FROM dimathlete\",\n",
    "    keys=[\"athlete_id\"],\n",
    "    table_name=\"Athlete\",\n",
    "    url=jdbc_url,\n",
    ")\n",
    "\n",
    "athlete_country_table = session.read_sql(\n",
    "    \"SELECT * FROM dimathlete_country\",\n",
    "    keys=[\"athlete_countrycode\"],\n",
    "    table_name=\"AthleteCountry\",\n",
    "    url=jdbc_url,\n",
    ")\n",
    "\n",
    "event_table = session.read_sql(\n",
    "    \"SELECT * FROM dimevent\",\n",
    "    keys=[\"event_id\"],\n",
    "    table_name=\"Event\",\n",
    "    url=jdbc_url,\n",
    ")\n",
    "\n",
    "game_table = session.read_sql(\n",
    "    \"SELECT * FROM dimgame\",\n",
    "    keys=[\"game_id\"],\n",
    "    table_name=\"Game\",\n",
    "    url=jdbc_url,\n",
    ")\n",
    "\n",
    "year_table = session.read_sql(\n",
    "    \"SELECT * FROM dimyear\",\n",
    "    keys=[\"year_id\"],\n",
    "    table_name=\"Year\",\n",
    "    types = {'year' : tt.type.STRING},\n",
    "    url=jdbc_url,\n",
    ")\n",
    "\n",
    "economy_table = session.read_sql(\n",
    "    \"SELECT * FROM dimeconomy\",\n",
    "    keys=[\"economy_id\"],\n",
    "    table_name=\"Economy\",\n",
    "    url=jdbc_url,\n",
    ")\n",
    "\n",
    "medal_table = session.read_sql(\n",
    "    \"SELECT * FROM dimmedal\",\n",
    "    keys=[\"medal_id\"],\n",
    "    table_name=\"Medal\",\n",
    "    url=jdbc_url,\n",
    ")\n",
    "\n",
    "fact_olympic_athletes_table = session.read_sql(\n",
    "    \"SELECT * FROM fact_olympicathletes\",\n",
    "    keys=[\"record_id\"],\n",
    "    table_name=\"OlympicAthletes\",\n",
    "    url=jdbc_url,\n",
    ")\n"
   ]
  },
  {
   "cell_type": "markdown",
   "metadata": {},
   "source": [
    "### Implement Star Schema"
   ]
  },
  {
   "cell_type": "code",
   "execution_count": 4,
   "metadata": {},
   "outputs": [],
   "source": [
    "fact_olympic_athletes_table.join(athlete_table, fact_olympic_athletes_table[\"athlete_id\"] == athlete_table[\"athlete_id\"])\n",
    "fact_olympic_athletes_table.join(athlete_country_table, fact_olympic_athletes_table[\"athlete_countrycode\"] == athlete_country_table[\"athlete_countrycode\"])\n",
    "fact_olympic_athletes_table.join(event_table, fact_olympic_athletes_table[\"event_id\"] == event_table[\"event_id\"])\n",
    "fact_olympic_athletes_table.join(game_table, fact_olympic_athletes_table[\"game_id\"] == game_table[\"game_id\"])\n",
    "fact_olympic_athletes_table.join(year_table, fact_olympic_athletes_table[\"year_id\"] == year_table[\"year_id\"])\n",
    "fact_olympic_athletes_table.join(economy_table, fact_olympic_athletes_table[\"economy_id\"] == economy_table[\"economy_id\"])\n",
    "fact_olympic_athletes_table.join(medal_table, fact_olympic_athletes_table[\"medal_id\"] == medal_table[\"medal_id\"])"
   ]
  },
  {
   "cell_type": "code",
   "execution_count": 5,
   "metadata": {},
   "outputs": [
    {
     "data": {
      "text/html": [
       "<div>\n",
       "<style scoped>\n",
       "    .dataframe tbody tr th:only-of-type {\n",
       "        vertical-align: middle;\n",
       "    }\n",
       "\n",
       "    .dataframe tbody tr th {\n",
       "        vertical-align: top;\n",
       "    }\n",
       "\n",
       "    .dataframe thead th {\n",
       "        text-align: right;\n",
       "    }\n",
       "</style>\n",
       "<table border=\"1\" class=\"dataframe\">\n",
       "  <thead>\n",
       "    <tr style=\"text-align: right;\">\n",
       "      <th></th>\n",
       "      <th>athlete_id</th>\n",
       "      <th>athlete_countrycode</th>\n",
       "      <th>event_id</th>\n",
       "      <th>medal_id</th>\n",
       "      <th>game_id</th>\n",
       "      <th>year_id</th>\n",
       "      <th>economy_id</th>\n",
       "      <th>gold_medals</th>\n",
       "      <th>silver_medals</th>\n",
       "      <th>bronze_medals</th>\n",
       "    </tr>\n",
       "    <tr>\n",
       "      <th>record_id</th>\n",
       "      <th></th>\n",
       "      <th></th>\n",
       "      <th></th>\n",
       "      <th></th>\n",
       "      <th></th>\n",
       "      <th></th>\n",
       "      <th></th>\n",
       "      <th></th>\n",
       "      <th></th>\n",
       "      <th></th>\n",
       "    </tr>\n",
       "  </thead>\n",
       "  <tbody>\n",
       "    <tr>\n",
       "      <th>51</th>\n",
       "      <td>50</td>\n",
       "      <td>USA                                           ...</td>\n",
       "      <td>15</td>\n",
       "      <td>1</td>\n",
       "      <td>beijing-2022</td>\n",
       "      <td>1</td>\n",
       "      <td>USA008</td>\n",
       "      <td>1</td>\n",
       "      <td>0</td>\n",
       "      <td>0</td>\n",
       "    </tr>\n",
       "    <tr>\n",
       "      <th>53</th>\n",
       "      <td>52</td>\n",
       "      <td>CAN                                           ...</td>\n",
       "      <td>16</td>\n",
       "      <td>3</td>\n",
       "      <td>beijing-2022</td>\n",
       "      <td>1</td>\n",
       "      <td>CAN006</td>\n",
       "      <td>0</td>\n",
       "      <td>0</td>\n",
       "      <td>1</td>\n",
       "    </tr>\n",
       "    <tr>\n",
       "      <th>61</th>\n",
       "      <td>60</td>\n",
       "      <td>CHN                                           ...</td>\n",
       "      <td>19</td>\n",
       "      <td>1</td>\n",
       "      <td>beijing-2022</td>\n",
       "      <td>1</td>\n",
       "      <td>CHN011</td>\n",
       "      <td>1</td>\n",
       "      <td>0</td>\n",
       "      <td>0</td>\n",
       "    </tr>\n",
       "    <tr>\n",
       "      <th>10</th>\n",
       "      <td>9</td>\n",
       "      <td>SWE                                           ...</td>\n",
       "      <td>2</td>\n",
       "      <td>1</td>\n",
       "      <td>beijing-2022</td>\n",
       "      <td>1</td>\n",
       "      <td>SWE003</td>\n",
       "      <td>1</td>\n",
       "      <td>0</td>\n",
       "      <td>0</td>\n",
       "    </tr>\n",
       "    <tr>\n",
       "      <th>69</th>\n",
       "      <td>55</td>\n",
       "      <td>HUN                                           ...</td>\n",
       "      <td>21</td>\n",
       "      <td>3</td>\n",
       "      <td>beijing-2022</td>\n",
       "      <td>1</td>\n",
       "      <td>HUN019</td>\n",
       "      <td>0</td>\n",
       "      <td>0</td>\n",
       "      <td>1</td>\n",
       "    </tr>\n",
       "  </tbody>\n",
       "</table>\n",
       "</div>"
      ],
      "text/plain": [
       "           athlete_id                                athlete_countrycode  \\\n",
       "record_id                                                                  \n",
       "51                 50  USA                                           ...   \n",
       "53                 52  CAN                                           ...   \n",
       "61                 60  CHN                                           ...   \n",
       "10                  9  SWE                                           ...   \n",
       "69                 55  HUN                                           ...   \n",
       "\n",
       "           event_id  medal_id       game_id  year_id economy_id  gold_medals  \\\n",
       "record_id                                                                      \n",
       "51               15         1  beijing-2022        1     USA008            1   \n",
       "53               16         3  beijing-2022        1     CAN006            0   \n",
       "61               19         1  beijing-2022        1     CHN011            1   \n",
       "10                2         1  beijing-2022        1     SWE003            1   \n",
       "69               21         3  beijing-2022        1     HUN019            0   \n",
       "\n",
       "           silver_medals  bronze_medals  \n",
       "record_id                                \n",
       "51                     0              0  \n",
       "53                     0              1  \n",
       "61                     0              0  \n",
       "10                     0              0  \n",
       "69                     0              1  "
      ]
     },
     "execution_count": 5,
     "metadata": {},
     "output_type": "execute_result"
    }
   ],
   "source": [
    "fact_olympic_athletes_table.head()"
   ]
  },
  {
   "cell_type": "code",
   "execution_count": 6,
   "metadata": {},
   "outputs": [
    {
     "data": {
      "text/markdown": [
       "```mermaid\n",
       "erDiagram\n",
       "  \"Game\" {\n",
       "    _ String PK \"game_id\"\n",
       "    _ String \"game_name\"\n",
       "    _ String \"gamelocation\"\n",
       "  }\n",
       "  \"Economy\" {\n",
       "    _ String PK \"economy_id\"\n",
       "    nullable double \"health_expenditure\"\n",
       "    nullable double \"gdp_percapita\"\n",
       "  }\n",
       "  \"Year\" {\n",
       "    _ int PK \"year_id\"\n",
       "    _ String \"year\"\n",
       "    _ String \"season\"\n",
       "  }\n",
       "  \"OlympicAthletes\" {\n",
       "    _ int PK \"record_id\"\n",
       "    nullable int \"athlete_id\"\n",
       "    _ String \"athlete_countrycode\"\n",
       "    nullable int \"event_id\"\n",
       "    nullable int \"medal_id\"\n",
       "    _ String \"game_id\"\n",
       "    nullable int \"year_id\"\n",
       "    _ String \"economy_id\"\n",
       "    nullable int \"gold_medals\"\n",
       "    nullable int \"silver_medals\"\n",
       "    nullable int \"bronze_medals\"\n",
       "  }\n",
       "  \"Event\" {\n",
       "    _ int PK \"event_id\"\n",
       "    _ String \"title\"\n",
       "    _ String \"event_gender\"\n",
       "    _ String \"discipline\"\n",
       "  }\n",
       "  \"Medal\" {\n",
       "    _ int PK \"medal_id\"\n",
       "    _ String \"medal_type\"\n",
       "  }\n",
       "  \"Athlete\" {\n",
       "    _ int PK \"athlete_id\"\n",
       "    _ String \"athlete_name\"\n",
       "    _ String \"gender\"\n",
       "  }\n",
       "  \"AthleteCountry\" {\n",
       "    _ String PK \"athlete_countrycode\"\n",
       "    _ String \"country_name\"\n",
       "    _ String \"continent\"\n",
       "  }\n",
       "  \"OlympicAthletes\" }o--o| \"Economy\" : \"`economy_id` == `economy_id`\"\n",
       "  \"OlympicAthletes\" }o--o| \"Event\" : \"`event_id` == `event_id`\"\n",
       "  \"OlympicAthletes\" }o--o| \"AthleteCountry\" : \"`athlete_countrycode` == `athlete_countrycode`\"\n",
       "  \"OlympicAthletes\" }o--o| \"Athlete\" : \"`athlete_id` == `athlete_id`\"\n",
       "  \"OlympicAthletes\" }o--o| \"Medal\" : \"`medal_id` == `medal_id`\"\n",
       "  \"OlympicAthletes\" }o--o| \"Year\" : \"`year_id` == `year_id`\"\n",
       "  \"OlympicAthletes\" }o--o| \"Game\" : \"`game_id` == `game_id`\"\n",
       "```\n"
      ],
      "text/plain": [
       "erDiagram\n",
       "  \"Game\" {\n",
       "    _ String PK \"game_id\"\n",
       "    _ String \"game_name\"\n",
       "    _ String \"gamelocation\"\n",
       "  }\n",
       "  \"Economy\" {\n",
       "    _ String PK \"economy_id\"\n",
       "    nullable double \"health_expenditure\"\n",
       "    nullable double \"gdp_percapita\"\n",
       "  }\n",
       "  \"Year\" {\n",
       "    _ int PK \"year_id\"\n",
       "    _ String \"year\"\n",
       "    _ String \"season\"\n",
       "  }\n",
       "  \"OlympicAthletes\" {\n",
       "    _ int PK \"record_id\"\n",
       "    nullable int \"athlete_id\"\n",
       "    _ String \"athlete_countrycode\"\n",
       "    nullable int \"event_id\"\n",
       "    nullable int \"medal_id\"\n",
       "    _ String \"game_id\"\n",
       "    nullable int \"year_id\"\n",
       "    _ String \"economy_id\"\n",
       "    nullable int \"gold_medals\"\n",
       "    nullable int \"silver_medals\"\n",
       "    nullable int \"bronze_medals\"\n",
       "  }\n",
       "  \"Event\" {\n",
       "    _ int PK \"event_id\"\n",
       "    _ String \"title\"\n",
       "    _ String \"event_gender\"\n",
       "    _ String \"discipline\"\n",
       "  }\n",
       "  \"Medal\" {\n",
       "    _ int PK \"medal_id\"\n",
       "    _ String \"medal_type\"\n",
       "  }\n",
       "  \"Athlete\" {\n",
       "    _ int PK \"athlete_id\"\n",
       "    _ String \"athlete_name\"\n",
       "    _ String \"gender\"\n",
       "  }\n",
       "  \"AthleteCountry\" {\n",
       "    _ String PK \"athlete_countrycode\"\n",
       "    _ String \"country_name\"\n",
       "    _ String \"continent\"\n",
       "  }\n",
       "  \"OlympicAthletes\" }o--o| \"Economy\" : \"`economy_id` == `economy_id`\"\n",
       "  \"OlympicAthletes\" }o--o| \"Event\" : \"`event_id` == `event_id`\"\n",
       "  \"OlympicAthletes\" }o--o| \"AthleteCountry\" : \"`athlete_countrycode` == `athlete_countrycode`\"\n",
       "  \"OlympicAthletes\" }o--o| \"Athlete\" : \"`athlete_id` == `athlete_id`\"\n",
       "  \"OlympicAthletes\" }o--o| \"Medal\" : \"`medal_id` == `medal_id`\"\n",
       "  \"OlympicAthletes\" }o--o| \"Year\" : \"`year_id` == `year_id`\"\n",
       "  \"OlympicAthletes\" }o--o| \"Game\" : \"`game_id` == `game_id`\""
      ]
     },
     "execution_count": 6,
     "metadata": {},
     "output_type": "execute_result"
    }
   ],
   "source": [
    "session.tables.schema"
   ]
  },
  {
   "cell_type": "markdown",
   "metadata": {},
   "source": [
    "### Cube"
   ]
  },
  {
   "cell_type": "code",
   "execution_count": 7,
   "metadata": {},
   "outputs": [
    {
     "data": {
      "application/json": {
       "Dimensions": {
        "Athlete": {
         "athlete_name": [
          "athlete_name"
         ],
         "gender": [
          "gender"
         ]
        },
        "AthleteCountry": {
         "continent": [
          "continent"
         ],
         "country_name": [
          "country_name"
         ]
        },
        "Event": {
         "discipline": [
          "discipline"
         ],
         "event_gender": [
          "event_gender"
         ],
         "title": [
          "title"
         ]
        },
        "Game": {
         "game_name": [
          "game_name"
         ],
         "gamelocation": [
          "gamelocation"
         ]
        },
        "Medal": {
         "medal_type": [
          "medal_type"
         ]
        },
        "OlympicAthletes": {
         "athlete_countrycode": [
          "athlete_countrycode"
         ],
         "economy_id": [
          "economy_id"
         ],
         "game_id": [
          "game_id"
         ],
         "record_id": [
          "record_id"
         ]
        },
        "Year": {
         "season": [
          "season"
         ],
         "year": [
          "year"
         ]
        }
       },
       "Measures": {
        "athlete_id.MEAN": {
         "formatter": "DOUBLE[#,###.00]"
        },
        "athlete_id.SUM": {
         "formatter": "INT[#,###]"
        },
        "bronze_medals.MEAN": {
         "formatter": "DOUBLE[#,###.00]"
        },
        "bronze_medals.SUM": {
         "formatter": "INT[#,###]"
        },
        "contributors.COUNT": {
         "formatter": "INT[#,###]"
        },
        "event_id.MEAN": {
         "formatter": "DOUBLE[#,###.00]"
        },
        "event_id.SUM": {
         "formatter": "INT[#,###]"
        },
        "gold_medals.MEAN": {
         "formatter": "DOUBLE[#,###.00]"
        },
        "gold_medals.SUM": {
         "formatter": "INT[#,###]"
        },
        "medal_id.MEAN": {
         "formatter": "DOUBLE[#,###.00]"
        },
        "medal_id.SUM": {
         "formatter": "INT[#,###]"
        },
        "silver_medals.MEAN": {
         "formatter": "DOUBLE[#,###.00]"
        },
        "silver_medals.SUM": {
         "formatter": "INT[#,###]"
        },
        "year_id.MEAN": {
         "formatter": "DOUBLE[#,###.00]"
        },
        "year_id.SUM": {
         "formatter": "INT[#,###]"
        }
       }
      },
      "text/html": [
       "<ul>\n",
       "<li>OlympicAthletes\n",
       "  <ul>\n",
       "  <li>Dimensions\n",
       "    <ul>\n",
       "    <li>Athlete\n",
       "      <ul>\n",
       "      <li>athlete_name\n",
       "        <ol>\n",
       "        <li>athlete_name</li>\n",
       "        </ol>      </li>\n",
       "      <li>gender\n",
       "        <ol>\n",
       "        <li>gender</li>\n",
       "        </ol>      </li>\n",
       "      </ul>\n",
       "    </li>\n",
       "    <li>AthleteCountry\n",
       "      <ul>\n",
       "      <li>continent\n",
       "        <ol>\n",
       "        <li>continent</li>\n",
       "        </ol>      </li>\n",
       "      <li>country_name\n",
       "        <ol>\n",
       "        <li>country_name</li>\n",
       "        </ol>      </li>\n",
       "      </ul>\n",
       "    </li>\n",
       "    <li>Event\n",
       "      <ul>\n",
       "      <li>discipline\n",
       "        <ol>\n",
       "        <li>discipline</li>\n",
       "        </ol>      </li>\n",
       "      <li>event_gender\n",
       "        <ol>\n",
       "        <li>event_gender</li>\n",
       "        </ol>      </li>\n",
       "      <li>title\n",
       "        <ol>\n",
       "        <li>title</li>\n",
       "        </ol>      </li>\n",
       "      </ul>\n",
       "    </li>\n",
       "    <li>Game\n",
       "      <ul>\n",
       "      <li>game_name\n",
       "        <ol>\n",
       "        <li>game_name</li>\n",
       "        </ol>      </li>\n",
       "      <li>gamelocation\n",
       "        <ol>\n",
       "        <li>gamelocation</li>\n",
       "        </ol>      </li>\n",
       "      </ul>\n",
       "    </li>\n",
       "    <li>Medal\n",
       "      <ul>\n",
       "      <li>medal_type\n",
       "        <ol>\n",
       "        <li>medal_type</li>\n",
       "        </ol>      </li>\n",
       "      </ul>\n",
       "    </li>\n",
       "    <li>OlympicAthletes\n",
       "      <ul>\n",
       "      <li>athlete_countrycode\n",
       "        <ol>\n",
       "        <li>athlete_countrycode</li>\n",
       "        </ol>      </li>\n",
       "      <li>economy_id\n",
       "        <ol>\n",
       "        <li>economy_id</li>\n",
       "        </ol>      </li>\n",
       "      <li>game_id\n",
       "        <ol>\n",
       "        <li>game_id</li>\n",
       "        </ol>      </li>\n",
       "      <li>record_id\n",
       "        <ol>\n",
       "        <li>record_id</li>\n",
       "        </ol>      </li>\n",
       "      </ul>\n",
       "    </li>\n",
       "    <li>Year\n",
       "      <ul>\n",
       "      <li>season\n",
       "        <ol>\n",
       "        <li>season</li>\n",
       "        </ol>      </li>\n",
       "      <li>year\n",
       "        <ol>\n",
       "        <li>year</li>\n",
       "        </ol>      </li>\n",
       "      </ul>\n",
       "    </li>\n",
       "    </ul>\n",
       "  </li>\n",
       "  <li>Measures\n",
       "    <ul>\n",
       "    <li>athlete_id.MEAN\n",
       "      <ul>\n",
       "      <li>formatter: DOUBLE[#,###.00]</li>\n",
       "      </ul>\n",
       "    </li>\n",
       "    <li>athlete_id.SUM\n",
       "      <ul>\n",
       "      <li>formatter: INT[#,###]</li>\n",
       "      </ul>\n",
       "    </li>\n",
       "    <li>bronze_medals.MEAN\n",
       "      <ul>\n",
       "      <li>formatter: DOUBLE[#,###.00]</li>\n",
       "      </ul>\n",
       "    </li>\n",
       "    <li>bronze_medals.SUM\n",
       "      <ul>\n",
       "      <li>formatter: INT[#,###]</li>\n",
       "      </ul>\n",
       "    </li>\n",
       "    <li>contributors.COUNT\n",
       "      <ul>\n",
       "      <li>formatter: INT[#,###]</li>\n",
       "      </ul>\n",
       "    </li>\n",
       "    <li>event_id.MEAN\n",
       "      <ul>\n",
       "      <li>formatter: DOUBLE[#,###.00]</li>\n",
       "      </ul>\n",
       "    </li>\n",
       "    <li>event_id.SUM\n",
       "      <ul>\n",
       "      <li>formatter: INT[#,###]</li>\n",
       "      </ul>\n",
       "    </li>\n",
       "    <li>gold_medals.MEAN\n",
       "      <ul>\n",
       "      <li>formatter: DOUBLE[#,###.00]</li>\n",
       "      </ul>\n",
       "    </li>\n",
       "    <li>gold_medals.SUM\n",
       "      <ul>\n",
       "      <li>formatter: INT[#,###]</li>\n",
       "      </ul>\n",
       "    </li>\n",
       "    <li>medal_id.MEAN\n",
       "      <ul>\n",
       "      <li>formatter: DOUBLE[#,###.00]</li>\n",
       "      </ul>\n",
       "    </li>\n",
       "    <li>medal_id.SUM\n",
       "      <ul>\n",
       "      <li>formatter: INT[#,###]</li>\n",
       "      </ul>\n",
       "    </li>\n",
       "    <li>silver_medals.MEAN\n",
       "      <ul>\n",
       "      <li>formatter: DOUBLE[#,###.00]</li>\n",
       "      </ul>\n",
       "    </li>\n",
       "    <li>silver_medals.SUM\n",
       "      <ul>\n",
       "      <li>formatter: INT[#,###]</li>\n",
       "      </ul>\n",
       "    </li>\n",
       "    <li>year_id.MEAN\n",
       "      <ul>\n",
       "      <li>formatter: DOUBLE[#,###.00]</li>\n",
       "      </ul>\n",
       "    </li>\n",
       "    <li>year_id.SUM\n",
       "      <ul>\n",
       "      <li>formatter: INT[#,###]</li>\n",
       "      </ul>\n",
       "    </li>\n",
       "    </ul>\n",
       "  </li>\n",
       "  </ul>\n",
       "</li>\n",
       "</ul>\n"
      ],
      "text/plain": [
       "<atoti.cube.Cube at 0x10fbb6c3580>"
      ]
     },
     "execution_count": 7,
     "metadata": {
      "application/json": {
       "expanded": false,
       "root": "OlympicAthletes"
      }
     },
     "output_type": "execute_result"
    }
   ],
   "source": [
    "cube = session.create_cube(fact_olympic_athletes_table)\n",
    "cube"
   ]
  },
  {
   "cell_type": "code",
   "execution_count": 8,
   "metadata": {},
   "outputs": [
    {
     "data": {
      "application/json": {
       "Athlete": {
        "athlete_name": [
         "athlete_name"
        ],
        "gender": [
         "gender"
        ]
       },
       "AthleteCountry": {
        "continent": [
         "continent"
        ],
        "country_name": [
         "country_name"
        ]
       },
       "Event": {
        "discipline": [
         "discipline"
        ],
        "event_gender": [
         "event_gender"
        ],
        "title": [
         "title"
        ]
       },
       "Game": {
        "game_name": [
         "game_name"
        ],
        "gamelocation": [
         "gamelocation"
        ]
       },
       "Medal": {
        "medal_type": [
         "medal_type"
        ]
       },
       "OlympicAthletes": {
        "athlete_countrycode": [
         "athlete_countrycode"
        ],
        "economy_id": [
         "economy_id"
        ],
        "game_id": [
         "game_id"
        ],
        "record_id": [
         "record_id"
        ]
       },
       "Year": {
        "season": [
         "season"
        ],
        "year": [
         "year"
        ]
       }
      },
      "text/html": [
       "<ul>\n",
       "<li>Dimensions\n",
       "  <ul>\n",
       "  <li>Athlete\n",
       "    <ul>\n",
       "    <li>athlete_name\n",
       "      <ol>\n",
       "      <li>athlete_name</li>\n",
       "      </ol>    </li>\n",
       "    <li>gender\n",
       "      <ol>\n",
       "      <li>gender</li>\n",
       "      </ol>    </li>\n",
       "    </ul>\n",
       "  </li>\n",
       "  <li>AthleteCountry\n",
       "    <ul>\n",
       "    <li>continent\n",
       "      <ol>\n",
       "      <li>continent</li>\n",
       "      </ol>    </li>\n",
       "    <li>country_name\n",
       "      <ol>\n",
       "      <li>country_name</li>\n",
       "      </ol>    </li>\n",
       "    </ul>\n",
       "  </li>\n",
       "  <li>Event\n",
       "    <ul>\n",
       "    <li>discipline\n",
       "      <ol>\n",
       "      <li>discipline</li>\n",
       "      </ol>    </li>\n",
       "    <li>event_gender\n",
       "      <ol>\n",
       "      <li>event_gender</li>\n",
       "      </ol>    </li>\n",
       "    <li>title\n",
       "      <ol>\n",
       "      <li>title</li>\n",
       "      </ol>    </li>\n",
       "    </ul>\n",
       "  </li>\n",
       "  <li>Game\n",
       "    <ul>\n",
       "    <li>game_name\n",
       "      <ol>\n",
       "      <li>game_name</li>\n",
       "      </ol>    </li>\n",
       "    <li>gamelocation\n",
       "      <ol>\n",
       "      <li>gamelocation</li>\n",
       "      </ol>    </li>\n",
       "    </ul>\n",
       "  </li>\n",
       "  <li>Medal\n",
       "    <ul>\n",
       "    <li>medal_type\n",
       "      <ol>\n",
       "      <li>medal_type</li>\n",
       "      </ol>    </li>\n",
       "    </ul>\n",
       "  </li>\n",
       "  <li>OlympicAthletes\n",
       "    <ul>\n",
       "    <li>athlete_countrycode\n",
       "      <ol>\n",
       "      <li>athlete_countrycode</li>\n",
       "      </ol>    </li>\n",
       "    <li>economy_id\n",
       "      <ol>\n",
       "      <li>economy_id</li>\n",
       "      </ol>    </li>\n",
       "    <li>game_id\n",
       "      <ol>\n",
       "      <li>game_id</li>\n",
       "      </ol>    </li>\n",
       "    <li>record_id\n",
       "      <ol>\n",
       "      <li>record_id</li>\n",
       "      </ol>    </li>\n",
       "    </ul>\n",
       "  </li>\n",
       "  <li>Year\n",
       "    <ul>\n",
       "    <li>season\n",
       "      <ol>\n",
       "      <li>season</li>\n",
       "      </ol>    </li>\n",
       "    <li>year\n",
       "      <ol>\n",
       "      <li>year</li>\n",
       "      </ol>    </li>\n",
       "    </ul>\n",
       "  </li>\n",
       "  </ul>\n",
       "</li>\n",
       "</ul>\n"
      ],
      "text/plain": [
       "{('OlympicAthletes', 'record_id'): <atoti.hierarchy.Hierarchy object at 0x0000010FBB7E5850>, ('AthleteCountry', 'country_name'): <atoti.hierarchy.Hierarchy object at 0x0000010FBB7E58B0>, ('Game', 'gamelocation'): <atoti.hierarchy.Hierarchy object at 0x0000010FBB734BE0>, ('Event', 'title'): <atoti.hierarchy.Hierarchy object at 0x0000010FBB7D7910>, ('Event', 'event_gender'): <atoti.hierarchy.Hierarchy object at 0x0000010FBB4F5460>, ('Year', 'year'): <atoti.hierarchy.Hierarchy object at 0x0000010FBB7F4070>, ('Event', 'discipline'): <atoti.hierarchy.Hierarchy object at 0x0000010FBB7523A0>, ('OlympicAthletes', 'game_id'): <atoti.hierarchy.Hierarchy object at 0x0000010FBB715400>, ('Athlete', 'athlete_name'): <atoti.hierarchy.Hierarchy object at 0x0000010FBB7E5FA0>, ('OlympicAthletes', 'athlete_countrycode'): <atoti.hierarchy.Hierarchy object at 0x0000010FBB6FA580>, ('Athlete', 'gender'): <atoti.hierarchy.Hierarchy object at 0x0000010FBB6FA670>, ('AthleteCountry', 'continent'): <atoti.hierarchy.Hierarchy object at 0x0000010FBB6FA8B0>, ('OlympicAthletes', 'economy_id'): <atoti.hierarchy.Hierarchy object at 0x0000010FBB7405E0>, ('Game', 'game_name'): <atoti.hierarchy.Hierarchy object at 0x0000010FBB740C10>, ('Year', 'season'): <atoti.hierarchy.Hierarchy object at 0x0000010FBB740AC0>, ('Medal', 'medal_type'): <atoti.hierarchy.Hierarchy object at 0x0000010FBB7408B0>}"
      ]
     },
     "execution_count": 8,
     "metadata": {
      "application/json": {
       "expanded": true,
       "root": "Dimensions"
      }
     },
     "output_type": "execute_result"
    }
   ],
   "source": [
    "hierarchies, levels, measures = cube.hierarchies, cube.levels, cube.measures\n",
    "hierarchies"
   ]
  },
  {
   "cell_type": "code",
   "execution_count": 9,
   "metadata": {},
   "outputs": [
    {
     "data": {
      "application/json": {
       "athlete_countrycode (OlympicAthletes/athlete_countrycode/athlete_countrycode)": {
        "dimension": "OlympicAthletes",
        "hierarchy": "athlete_countrycode",
        "order": "NaturalOrder",
        "type": "String"
       },
       "athlete_name (Athlete/athlete_name/athlete_name)": {
        "dimension": "Athlete",
        "hierarchy": "athlete_name",
        "order": "NaturalOrder",
        "type": "String"
       },
       "continent (AthleteCountry/continent/continent)": {
        "dimension": "AthleteCountry",
        "hierarchy": "continent",
        "order": "NaturalOrder",
        "type": "String"
       },
       "country_name (AthleteCountry/country_name/country_name)": {
        "dimension": "AthleteCountry",
        "hierarchy": "country_name",
        "order": "NaturalOrder",
        "type": "String"
       },
       "discipline (Event/discipline/discipline)": {
        "dimension": "Event",
        "hierarchy": "discipline",
        "order": "NaturalOrder",
        "type": "String"
       },
       "economy_id (OlympicAthletes/economy_id/economy_id)": {
        "dimension": "OlympicAthletes",
        "hierarchy": "economy_id",
        "order": "NaturalOrder",
        "type": "String"
       },
       "event_gender (Event/event_gender/event_gender)": {
        "dimension": "Event",
        "hierarchy": "event_gender",
        "order": "NaturalOrder",
        "type": "String"
       },
       "game_id (OlympicAthletes/game_id/game_id)": {
        "dimension": "OlympicAthletes",
        "hierarchy": "game_id",
        "order": "NaturalOrder",
        "type": "String"
       },
       "game_name (Game/game_name/game_name)": {
        "dimension": "Game",
        "hierarchy": "game_name",
        "order": "NaturalOrder",
        "type": "String"
       },
       "gamelocation (Game/gamelocation/gamelocation)": {
        "dimension": "Game",
        "hierarchy": "gamelocation",
        "order": "NaturalOrder",
        "type": "String"
       },
       "gender (Athlete/gender/gender)": {
        "dimension": "Athlete",
        "hierarchy": "gender",
        "order": "NaturalOrder",
        "type": "String"
       },
       "medal_type (Medal/medal_type/medal_type)": {
        "dimension": "Medal",
        "hierarchy": "medal_type",
        "order": "NaturalOrder",
        "type": "String"
       },
       "record_id (OlympicAthletes/record_id/record_id)": {
        "dimension": "OlympicAthletes",
        "hierarchy": "record_id",
        "order": "NaturalOrder",
        "type": "int"
       },
       "season (Year/season/season)": {
        "dimension": "Year",
        "hierarchy": "season",
        "order": "NaturalOrder",
        "type": "String"
       },
       "title (Event/title/title)": {
        "dimension": "Event",
        "hierarchy": "title",
        "order": "NaturalOrder",
        "type": "String"
       },
       "year (Year/year/year)": {
        "dimension": "Year",
        "hierarchy": "year",
        "order": "NaturalOrder",
        "type": "String"
       }
      },
      "text/html": [
       "<ul>\n",
       "<li>Levels\n",
       "  <ul>\n",
       "  <li>athlete_countrycode (OlympicAthletes/athlete_countrycode/athlete_countrycode)\n",
       "    <ul>\n",
       "    <li>dimension: OlympicAthletes</li>\n",
       "    <li>hierarchy: athlete_countrycode</li>\n",
       "    <li>type: String</li>\n",
       "    <li>order: NaturalOrder</li>\n",
       "    </ul>\n",
       "  </li>\n",
       "  <li>athlete_name (Athlete/athlete_name/athlete_name)\n",
       "    <ul>\n",
       "    <li>dimension: Athlete</li>\n",
       "    <li>hierarchy: athlete_name</li>\n",
       "    <li>type: String</li>\n",
       "    <li>order: NaturalOrder</li>\n",
       "    </ul>\n",
       "  </li>\n",
       "  <li>continent (AthleteCountry/continent/continent)\n",
       "    <ul>\n",
       "    <li>dimension: AthleteCountry</li>\n",
       "    <li>hierarchy: continent</li>\n",
       "    <li>type: String</li>\n",
       "    <li>order: NaturalOrder</li>\n",
       "    </ul>\n",
       "  </li>\n",
       "  <li>country_name (AthleteCountry/country_name/country_name)\n",
       "    <ul>\n",
       "    <li>dimension: AthleteCountry</li>\n",
       "    <li>hierarchy: country_name</li>\n",
       "    <li>type: String</li>\n",
       "    <li>order: NaturalOrder</li>\n",
       "    </ul>\n",
       "  </li>\n",
       "  <li>discipline (Event/discipline/discipline)\n",
       "    <ul>\n",
       "    <li>dimension: Event</li>\n",
       "    <li>hierarchy: discipline</li>\n",
       "    <li>type: String</li>\n",
       "    <li>order: NaturalOrder</li>\n",
       "    </ul>\n",
       "  </li>\n",
       "  <li>economy_id (OlympicAthletes/economy_id/economy_id)\n",
       "    <ul>\n",
       "    <li>dimension: OlympicAthletes</li>\n",
       "    <li>hierarchy: economy_id</li>\n",
       "    <li>type: String</li>\n",
       "    <li>order: NaturalOrder</li>\n",
       "    </ul>\n",
       "  </li>\n",
       "  <li>event_gender (Event/event_gender/event_gender)\n",
       "    <ul>\n",
       "    <li>dimension: Event</li>\n",
       "    <li>hierarchy: event_gender</li>\n",
       "    <li>type: String</li>\n",
       "    <li>order: NaturalOrder</li>\n",
       "    </ul>\n",
       "  </li>\n",
       "  <li>game_id (OlympicAthletes/game_id/game_id)\n",
       "    <ul>\n",
       "    <li>dimension: OlympicAthletes</li>\n",
       "    <li>hierarchy: game_id</li>\n",
       "    <li>type: String</li>\n",
       "    <li>order: NaturalOrder</li>\n",
       "    </ul>\n",
       "  </li>\n",
       "  <li>game_name (Game/game_name/game_name)\n",
       "    <ul>\n",
       "    <li>dimension: Game</li>\n",
       "    <li>hierarchy: game_name</li>\n",
       "    <li>type: String</li>\n",
       "    <li>order: NaturalOrder</li>\n",
       "    </ul>\n",
       "  </li>\n",
       "  <li>gamelocation (Game/gamelocation/gamelocation)\n",
       "    <ul>\n",
       "    <li>dimension: Game</li>\n",
       "    <li>hierarchy: gamelocation</li>\n",
       "    <li>type: String</li>\n",
       "    <li>order: NaturalOrder</li>\n",
       "    </ul>\n",
       "  </li>\n",
       "  <li>gender (Athlete/gender/gender)\n",
       "    <ul>\n",
       "    <li>dimension: Athlete</li>\n",
       "    <li>hierarchy: gender</li>\n",
       "    <li>type: String</li>\n",
       "    <li>order: NaturalOrder</li>\n",
       "    </ul>\n",
       "  </li>\n",
       "  <li>medal_type (Medal/medal_type/medal_type)\n",
       "    <ul>\n",
       "    <li>dimension: Medal</li>\n",
       "    <li>hierarchy: medal_type</li>\n",
       "    <li>type: String</li>\n",
       "    <li>order: NaturalOrder</li>\n",
       "    </ul>\n",
       "  </li>\n",
       "  <li>record_id (OlympicAthletes/record_id/record_id)\n",
       "    <ul>\n",
       "    <li>dimension: OlympicAthletes</li>\n",
       "    <li>hierarchy: record_id</li>\n",
       "    <li>type: int</li>\n",
       "    <li>order: NaturalOrder</li>\n",
       "    </ul>\n",
       "  </li>\n",
       "  <li>season (Year/season/season)\n",
       "    <ul>\n",
       "    <li>dimension: Year</li>\n",
       "    <li>hierarchy: season</li>\n",
       "    <li>type: String</li>\n",
       "    <li>order: NaturalOrder</li>\n",
       "    </ul>\n",
       "  </li>\n",
       "  <li>title (Event/title/title)\n",
       "    <ul>\n",
       "    <li>dimension: Event</li>\n",
       "    <li>hierarchy: title</li>\n",
       "    <li>type: String</li>\n",
       "    <li>order: NaturalOrder</li>\n",
       "    </ul>\n",
       "  </li>\n",
       "  <li>year (Year/year/year)\n",
       "    <ul>\n",
       "    <li>dimension: Year</li>\n",
       "    <li>hierarchy: year</li>\n",
       "    <li>type: String</li>\n",
       "    <li>order: NaturalOrder</li>\n",
       "    </ul>\n",
       "  </li>\n",
       "  </ul>\n",
       "</li>\n",
       "</ul>\n"
      ],
      "text/plain": [
       "<atoti.levels.Levels at 0x10fbb63e700>"
      ]
     },
     "execution_count": 9,
     "metadata": {
      "application/json": {
       "expanded": true,
       "root": "Levels"
      }
     },
     "output_type": "execute_result"
    }
   ],
   "source": [
    "levels"
   ]
  },
  {
   "cell_type": "code",
   "execution_count": 10,
   "metadata": {},
   "outputs": [
    {
     "data": {
      "application/json": {
       "athlete_id.MEAN": {
        "formatter": "DOUBLE[#,###.00]"
       },
       "athlete_id.SUM": {
        "formatter": "INT[#,###]"
       },
       "bronze_medals.MEAN": {
        "formatter": "DOUBLE[#,###.00]"
       },
       "bronze_medals.SUM": {
        "formatter": "INT[#,###]"
       },
       "contributors.COUNT": {
        "formatter": "INT[#,###]"
       },
       "event_id.MEAN": {
        "formatter": "DOUBLE[#,###.00]"
       },
       "event_id.SUM": {
        "formatter": "INT[#,###]"
       },
       "gold_medals.MEAN": {
        "formatter": "DOUBLE[#,###.00]"
       },
       "gold_medals.SUM": {
        "formatter": "INT[#,###]"
       },
       "medal_id.MEAN": {
        "formatter": "DOUBLE[#,###.00]"
       },
       "medal_id.SUM": {
        "formatter": "INT[#,###]"
       },
       "silver_medals.MEAN": {
        "formatter": "DOUBLE[#,###.00]"
       },
       "silver_medals.SUM": {
        "formatter": "INT[#,###]"
       },
       "year_id.MEAN": {
        "formatter": "DOUBLE[#,###.00]"
       },
       "year_id.SUM": {
        "formatter": "INT[#,###]"
       }
      },
      "text/html": [
       "<ul>\n",
       "<li>Measures\n",
       "  <ul>\n",
       "  <li>athlete_id.MEAN\n",
       "    <ul>\n",
       "    <li>formatter: DOUBLE[#,###.00]</li>\n",
       "    </ul>\n",
       "  </li>\n",
       "  <li>athlete_id.SUM\n",
       "    <ul>\n",
       "    <li>formatter: INT[#,###]</li>\n",
       "    </ul>\n",
       "  </li>\n",
       "  <li>bronze_medals.MEAN\n",
       "    <ul>\n",
       "    <li>formatter: DOUBLE[#,###.00]</li>\n",
       "    </ul>\n",
       "  </li>\n",
       "  <li>bronze_medals.SUM\n",
       "    <ul>\n",
       "    <li>formatter: INT[#,###]</li>\n",
       "    </ul>\n",
       "  </li>\n",
       "  <li>contributors.COUNT\n",
       "    <ul>\n",
       "    <li>formatter: INT[#,###]</li>\n",
       "    </ul>\n",
       "  </li>\n",
       "  <li>event_id.MEAN\n",
       "    <ul>\n",
       "    <li>formatter: DOUBLE[#,###.00]</li>\n",
       "    </ul>\n",
       "  </li>\n",
       "  <li>event_id.SUM\n",
       "    <ul>\n",
       "    <li>formatter: INT[#,###]</li>\n",
       "    </ul>\n",
       "  </li>\n",
       "  <li>gold_medals.MEAN\n",
       "    <ul>\n",
       "    <li>formatter: DOUBLE[#,###.00]</li>\n",
       "    </ul>\n",
       "  </li>\n",
       "  <li>gold_medals.SUM\n",
       "    <ul>\n",
       "    <li>formatter: INT[#,###]</li>\n",
       "    </ul>\n",
       "  </li>\n",
       "  <li>medal_id.MEAN\n",
       "    <ul>\n",
       "    <li>formatter: DOUBLE[#,###.00]</li>\n",
       "    </ul>\n",
       "  </li>\n",
       "  <li>medal_id.SUM\n",
       "    <ul>\n",
       "    <li>formatter: INT[#,###]</li>\n",
       "    </ul>\n",
       "  </li>\n",
       "  <li>silver_medals.MEAN\n",
       "    <ul>\n",
       "    <li>formatter: DOUBLE[#,###.00]</li>\n",
       "    </ul>\n",
       "  </li>\n",
       "  <li>silver_medals.SUM\n",
       "    <ul>\n",
       "    <li>formatter: INT[#,###]</li>\n",
       "    </ul>\n",
       "  </li>\n",
       "  <li>year_id.MEAN\n",
       "    <ul>\n",
       "    <li>formatter: DOUBLE[#,###.00]</li>\n",
       "    </ul>\n",
       "  </li>\n",
       "  <li>year_id.SUM\n",
       "    <ul>\n",
       "    <li>formatter: INT[#,###]</li>\n",
       "    </ul>\n",
       "  </li>\n",
       "  </ul>\n",
       "</li>\n",
       "</ul>\n"
      ],
      "text/plain": [
       "{'contributors.COUNT': <atoti.measure.Measure object at 0x0000010FBB7A90D0>, 'update.TIMESTAMP': <atoti.measure.Measure object at 0x0000010FBB94A7C0>, 'gold_medals.MEAN': <atoti.measure.Measure object at 0x0000010FBB94AAF0>, 'gold_medals.SUM': <atoti.measure.Measure object at 0x0000010FBB94A880>, 'year_id.MEAN': <atoti.measure.Measure object at 0x0000010FBB94A9A0>, 'year_id.SUM': <atoti.measure.Measure object at 0x0000010FBB94A820>, 'athlete_id.MEAN': <atoti.measure.Measure object at 0x0000010FBB94A4C0>, 'athlete_id.SUM': <atoti.measure.Measure object at 0x0000010FBB94A460>, 'bronze_medals.MEAN': <atoti.measure.Measure object at 0x0000010FBB94A070>, 'bronze_medals.SUM': <atoti.measure.Measure object at 0x0000010FBB94A550>, 'silver_medals.MEAN': <atoti.measure.Measure object at 0x0000010FBB94A100>, 'silver_medals.SUM': <atoti.measure.Measure object at 0x0000010FBB9C85E0>, 'event_id.MEAN': <atoti.measure.Measure object at 0x0000010FBB9C86D0>, 'event_id.SUM': <atoti.measure.Measure object at 0x0000010FBB9C8730>, 'medal_id.MEAN': <atoti.measure.Measure object at 0x0000010FBB9C8790>, 'medal_id.SUM': <atoti.measure.Measure object at 0x0000010FBB9C8700>}"
      ]
     },
     "execution_count": 10,
     "metadata": {
      "application/json": {
       "expanded": false,
       "root": "Measures"
      }
     },
     "output_type": "execute_result"
    }
   ],
   "source": [
    "measures"
   ]
  },
  {
   "cell_type": "code",
   "execution_count": 11,
   "metadata": {},
   "outputs": [
    {
     "data": {
      "text/html": [
       "<div>\n",
       "<style scoped>\n",
       "    .dataframe tbody tr th:only-of-type {\n",
       "        vertical-align: middle;\n",
       "    }\n",
       "\n",
       "    .dataframe tbody tr th {\n",
       "        vertical-align: top;\n",
       "    }\n",
       "\n",
       "    .dataframe thead th {\n",
       "        text-align: right;\n",
       "    }\n",
       "</style>\n",
       "<table border=\"1\" class=\"dataframe\">\n",
       "  <thead>\n",
       "    <tr style=\"text-align: right;\">\n",
       "      <th></th>\n",
       "      <th>health_expenditure</th>\n",
       "      <th>gdp_percapita</th>\n",
       "    </tr>\n",
       "    <tr>\n",
       "      <th>economy_id</th>\n",
       "      <th></th>\n",
       "      <th></th>\n",
       "    </tr>\n",
       "  </thead>\n",
       "  <tbody>\n",
       "    <tr>\n",
       "      <th>SWE003</th>\n",
       "      <td>11.379928</td>\n",
       "      <td>52837.90398</td>\n",
       "    </tr>\n",
       "    <tr>\n",
       "      <th>CHN011</th>\n",
       "      <td>5.593597</td>\n",
       "      <td>10408.71912</td>\n",
       "    </tr>\n",
       "    <tr>\n",
       "      <th>HUN019</th>\n",
       "      <td>7.250314</td>\n",
       "      <td>16125.60941</td>\n",
       "    </tr>\n",
       "    <tr>\n",
       "      <th>LVA027</th>\n",
       "      <td>7.44663</td>\n",
       "      <td>18207.13964</td>\n",
       "    </tr>\n",
       "    <tr>\n",
       "      <th>KWT035</th>\n",
       "      <td>6.307433</td>\n",
       "      <td>24297.70114</td>\n",
       "    </tr>\n",
       "  </tbody>\n",
       "</table>\n",
       "</div>"
      ],
      "text/plain": [
       "            health_expenditure  gdp_percapita\n",
       "economy_id                                   \n",
       "SWE003               11.379928    52837.90398\n",
       "CHN011                5.593597    10408.71912\n",
       "HUN019                7.250314    16125.60941\n",
       "LVA027                 7.44663    18207.13964\n",
       "KWT035                6.307433    24297.70114"
      ]
     },
     "execution_count": 11,
     "metadata": {},
     "output_type": "execute_result"
    }
   ],
   "source": [
    "economy_table.head()"
   ]
  },
  {
   "cell_type": "markdown",
   "metadata": {},
   "source": [
    "### Clean Hierachies, Levels and Measures"
   ]
  },
  {
   "cell_type": "code",
   "execution_count": 12,
   "metadata": {},
   "outputs": [],
   "source": [
    "hierarchies[\"Athlete\"] = [levels[\"athlete_name\"], levels[\"gender\"]]\n",
    "hierarchies[\"AthleteCountry\"] = [levels[\"country_name\"], levels[\"continent\"]]\n",
    "hierarchies[\"Event\"] = [levels[\"event_gender\"], levels[\"title\"], levels[\"discipline\"]]\n",
    "hierarchies[\"Game\"] = [levels[\"game_name\"], levels[\"gamelocation\"]]\n",
    "hierarchies[\"Medal\"] = [levels[\"medal_type\"]]\n",
    "hierarchies[\"Year\"] = [levels[\"season\"], levels[\"year\"]] \n"
   ]
  },
  {
   "cell_type": "code",
   "execution_count": 13,
   "metadata": {},
   "outputs": [
    {
     "data": {
      "application/json": {
       "Athlete": {
        "Athlete": [
         "athlete_name",
         "gender"
        ],
        "athlete_name": [
         "athlete_name"
        ],
        "gender": [
         "gender"
        ]
       },
       "AthleteCountry": {
        "AthleteCountry": [
         "country_name",
         "continent"
        ],
        "continent": [
         "continent"
        ],
        "country_name": [
         "country_name"
        ]
       },
       "Event": {
        "Event": [
         "event_gender",
         "title",
         "discipline"
        ],
        "discipline": [
         "discipline"
        ],
        "event_gender": [
         "event_gender"
        ],
        "title": [
         "title"
        ]
       },
       "Game": {
        "Game": [
         "game_name",
         "gamelocation"
        ],
        "game_name": [
         "game_name"
        ],
        "gamelocation": [
         "gamelocation"
        ]
       },
       "Medal": {
        "Medal": [
         "medal_type"
        ],
        "medal_type": [
         "medal_type"
        ]
       },
       "OlympicAthletes": {
        "athlete_countrycode": [
         "athlete_countrycode"
        ],
        "economy_id": [
         "economy_id"
        ],
        "game_id": [
         "game_id"
        ],
        "record_id": [
         "record_id"
        ]
       },
       "Year": {
        "Year": [
         "season",
         "year"
        ],
        "season": [
         "season"
        ],
        "year": [
         "year"
        ]
       }
      },
      "text/html": [
       "<ul>\n",
       "<li>Dimensions\n",
       "  <ul>\n",
       "  <li>Athlete\n",
       "    <ul>\n",
       "    <li>Athlete\n",
       "      <ol>\n",
       "      <li>athlete_name</li>\n",
       "      <li>gender</li>\n",
       "      </ol>    </li>\n",
       "    <li>athlete_name\n",
       "      <ol>\n",
       "      <li>athlete_name</li>\n",
       "      </ol>    </li>\n",
       "    <li>gender\n",
       "      <ol>\n",
       "      <li>gender</li>\n",
       "      </ol>    </li>\n",
       "    </ul>\n",
       "  </li>\n",
       "  <li>AthleteCountry\n",
       "    <ul>\n",
       "    <li>AthleteCountry\n",
       "      <ol>\n",
       "      <li>country_name</li>\n",
       "      <li>continent</li>\n",
       "      </ol>    </li>\n",
       "    <li>continent\n",
       "      <ol>\n",
       "      <li>continent</li>\n",
       "      </ol>    </li>\n",
       "    <li>country_name\n",
       "      <ol>\n",
       "      <li>country_name</li>\n",
       "      </ol>    </li>\n",
       "    </ul>\n",
       "  </li>\n",
       "  <li>Event\n",
       "    <ul>\n",
       "    <li>Event\n",
       "      <ol>\n",
       "      <li>event_gender</li>\n",
       "      <li>title</li>\n",
       "      <li>discipline</li>\n",
       "      </ol>    </li>\n",
       "    <li>discipline\n",
       "      <ol>\n",
       "      <li>discipline</li>\n",
       "      </ol>    </li>\n",
       "    <li>event_gender\n",
       "      <ol>\n",
       "      <li>event_gender</li>\n",
       "      </ol>    </li>\n",
       "    <li>title\n",
       "      <ol>\n",
       "      <li>title</li>\n",
       "      </ol>    </li>\n",
       "    </ul>\n",
       "  </li>\n",
       "  <li>Game\n",
       "    <ul>\n",
       "    <li>Game\n",
       "      <ol>\n",
       "      <li>game_name</li>\n",
       "      <li>gamelocation</li>\n",
       "      </ol>    </li>\n",
       "    <li>game_name\n",
       "      <ol>\n",
       "      <li>game_name</li>\n",
       "      </ol>    </li>\n",
       "    <li>gamelocation\n",
       "      <ol>\n",
       "      <li>gamelocation</li>\n",
       "      </ol>    </li>\n",
       "    </ul>\n",
       "  </li>\n",
       "  <li>Medal\n",
       "    <ul>\n",
       "    <li>Medal\n",
       "      <ol>\n",
       "      <li>medal_type</li>\n",
       "      </ol>    </li>\n",
       "    <li>medal_type\n",
       "      <ol>\n",
       "      <li>medal_type</li>\n",
       "      </ol>    </li>\n",
       "    </ul>\n",
       "  </li>\n",
       "  <li>OlympicAthletes\n",
       "    <ul>\n",
       "    <li>athlete_countrycode\n",
       "      <ol>\n",
       "      <li>athlete_countrycode</li>\n",
       "      </ol>    </li>\n",
       "    <li>economy_id\n",
       "      <ol>\n",
       "      <li>economy_id</li>\n",
       "      </ol>    </li>\n",
       "    <li>game_id\n",
       "      <ol>\n",
       "      <li>game_id</li>\n",
       "      </ol>    </li>\n",
       "    <li>record_id\n",
       "      <ol>\n",
       "      <li>record_id</li>\n",
       "      </ol>    </li>\n",
       "    </ul>\n",
       "  </li>\n",
       "  <li>Year\n",
       "    <ul>\n",
       "    <li>Year\n",
       "      <ol>\n",
       "      <li>season</li>\n",
       "      <li>year</li>\n",
       "      </ol>    </li>\n",
       "    <li>season\n",
       "      <ol>\n",
       "      <li>season</li>\n",
       "      </ol>    </li>\n",
       "    <li>year\n",
       "      <ol>\n",
       "      <li>year</li>\n",
       "      </ol>    </li>\n",
       "    </ul>\n",
       "  </li>\n",
       "  </ul>\n",
       "</li>\n",
       "</ul>\n"
      ],
      "text/plain": [
       "{('OlympicAthletes', 'record_id'): <atoti.hierarchy.Hierarchy object at 0x0000010FBB740A00>, ('AthleteCountry', 'country_name'): <atoti.hierarchy.Hierarchy object at 0x0000010FBB7402E0>, ('Game', 'gamelocation'): <atoti.hierarchy.Hierarchy object at 0x0000010FBB740B20>, ('Event', 'title'): <atoti.hierarchy.Hierarchy object at 0x0000010FBB7409A0>, ('Event', 'event_gender'): <atoti.hierarchy.Hierarchy object at 0x0000010FBAFEB730>, ('Year', 'year'): <atoti.hierarchy.Hierarchy object at 0x0000010FAA6449A0>, ('Event', 'discipline'): <atoti.hierarchy.Hierarchy object at 0x0000010FBAFEB820>, ('OlympicAthletes', 'game_id'): <atoti.hierarchy.Hierarchy object at 0x0000010FBB82BC70>, ('Athlete', 'athlete_name'): <atoti.hierarchy.Hierarchy object at 0x0000010FBB82B730>, ('OlympicAthletes', 'athlete_countrycode'): <atoti.hierarchy.Hierarchy object at 0x0000010FBB82B700>, ('Athlete', 'gender'): <atoti.hierarchy.Hierarchy object at 0x0000010FBB4E3EB0>, ('AthleteCountry', 'continent'): <atoti.hierarchy.Hierarchy object at 0x0000010FBB4E3550>, ('OlympicAthletes', 'economy_id'): <atoti.hierarchy.Hierarchy object at 0x0000010FBB4E3850>, ('Game', 'Game'): <atoti.hierarchy.Hierarchy object at 0x0000010FBB740E80>, ('Year', 'Year'): <atoti.hierarchy.Hierarchy object at 0x0000010FBB740730>, ('AthleteCountry', 'AthleteCountry'): <atoti.hierarchy.Hierarchy object at 0x0000010FBB6FA580>, ('Game', 'game_name'): <atoti.hierarchy.Hierarchy object at 0x0000010FBB6FA4C0>, ('Year', 'season'): <atoti.hierarchy.Hierarchy object at 0x0000010FBB95F7C0>, ('Medal', 'medal_type'): <atoti.hierarchy.Hierarchy object at 0x0000010FBB95FFA0>, ('Medal', 'Medal'): <atoti.hierarchy.Hierarchy object at 0x0000010FBB7BA4F0>, ('Event', 'Event'): <atoti.hierarchy.Hierarchy object at 0x0000010FBB8340D0>, ('Athlete', 'Athlete'): <atoti.hierarchy.Hierarchy object at 0x0000010FBB950280>}"
      ]
     },
     "execution_count": 13,
     "metadata": {
      "application/json": {
       "expanded": true,
       "root": "Dimensions"
      }
     },
     "output_type": "execute_result"
    }
   ],
   "source": [
    "hierarchies"
   ]
  },
  {
   "cell_type": "code",
   "execution_count": 14,
   "metadata": {},
   "outputs": [],
   "source": [
    "# clean Athlete Hierachies:\n",
    "del hierarchies[('Athlete', 'athlete_name')]\n",
    "del hierarchies[('Athlete', 'gender')]\n",
    "# clean Athlete Country Hierachies:\n",
    "del hierarchies[('AthleteCountry', 'continent')]\n",
    "del hierarchies[('AthleteCountry', 'country_name')]\n",
    "# clean Event Hierachies:\n",
    "del hierarchies[('Event', 'discipline')]\n",
    "del hierarchies[('Event', 'event_gender')]\n",
    "del hierarchies[('Event', 'title')]\n",
    "\n",
    "# clean Game Hierarchies:\n",
    "del hierarchies[('Game', 'game_name')]\n",
    "del hierarchies[('Game', 'gamelocation')]\n",
    "\n",
    "# clean Medal Hierachies:\n",
    "del hierarchies[('Medal', 'medal_type')]\n",
    "\n",
    "# clean Year Hierachies:\n",
    "del hierarchies[('Year', 'season')]\n",
    "del hierarchies[('Year', 'year')]\n",
    "\n",
    "\n",
    "# remove fact table ids:\n",
    "del hierarchies[('OlympicAthletes', 'athlete_countrycode')]\n",
    "del hierarchies[('OlympicAthletes', 'economy_id')]\n",
    "del hierarchies[('OlympicAthletes', 'game_id')]\n",
    "del hierarchies[('OlympicAthletes', 'record_id')]"
   ]
  },
  {
   "cell_type": "code",
   "execution_count": 15,
   "metadata": {},
   "outputs": [
    {
     "data": {
      "application/json": {
       "athlete_id.MEAN": {
        "formatter": "DOUBLE[#,###.00]"
       },
       "athlete_id.SUM": {
        "formatter": "INT[#,###]"
       },
       "bronze_medals.MEAN": {
        "formatter": "DOUBLE[#,###.00]"
       },
       "bronze_medals.SUM": {
        "formatter": "INT[#,###]"
       },
       "contributors.COUNT": {
        "formatter": "INT[#,###]"
       },
       "event_id.MEAN": {
        "formatter": "DOUBLE[#,###.00]"
       },
       "event_id.SUM": {
        "formatter": "INT[#,###]"
       },
       "gold_medals.MEAN": {
        "formatter": "DOUBLE[#,###.00]"
       },
       "gold_medals.SUM": {
        "formatter": "INT[#,###]"
       },
       "medal_id.MEAN": {
        "formatter": "DOUBLE[#,###.00]"
       },
       "medal_id.SUM": {
        "formatter": "INT[#,###]"
       },
       "silver_medals.MEAN": {
        "formatter": "DOUBLE[#,###.00]"
       },
       "silver_medals.SUM": {
        "formatter": "INT[#,###]"
       },
       "year_id.MEAN": {
        "formatter": "DOUBLE[#,###.00]"
       },
       "year_id.SUM": {
        "formatter": "INT[#,###]"
       }
      },
      "text/html": [
       "<ul>\n",
       "<li>Measures\n",
       "  <ul>\n",
       "  <li>athlete_id.MEAN\n",
       "    <ul>\n",
       "    <li>formatter: DOUBLE[#,###.00]</li>\n",
       "    </ul>\n",
       "  </li>\n",
       "  <li>athlete_id.SUM\n",
       "    <ul>\n",
       "    <li>formatter: INT[#,###]</li>\n",
       "    </ul>\n",
       "  </li>\n",
       "  <li>bronze_medals.MEAN\n",
       "    <ul>\n",
       "    <li>formatter: DOUBLE[#,###.00]</li>\n",
       "    </ul>\n",
       "  </li>\n",
       "  <li>bronze_medals.SUM\n",
       "    <ul>\n",
       "    <li>formatter: INT[#,###]</li>\n",
       "    </ul>\n",
       "  </li>\n",
       "  <li>contributors.COUNT\n",
       "    <ul>\n",
       "    <li>formatter: INT[#,###]</li>\n",
       "    </ul>\n",
       "  </li>\n",
       "  <li>event_id.MEAN\n",
       "    <ul>\n",
       "    <li>formatter: DOUBLE[#,###.00]</li>\n",
       "    </ul>\n",
       "  </li>\n",
       "  <li>event_id.SUM\n",
       "    <ul>\n",
       "    <li>formatter: INT[#,###]</li>\n",
       "    </ul>\n",
       "  </li>\n",
       "  <li>gold_medals.MEAN\n",
       "    <ul>\n",
       "    <li>formatter: DOUBLE[#,###.00]</li>\n",
       "    </ul>\n",
       "  </li>\n",
       "  <li>gold_medals.SUM\n",
       "    <ul>\n",
       "    <li>formatter: INT[#,###]</li>\n",
       "    </ul>\n",
       "  </li>\n",
       "  <li>medal_id.MEAN\n",
       "    <ul>\n",
       "    <li>formatter: DOUBLE[#,###.00]</li>\n",
       "    </ul>\n",
       "  </li>\n",
       "  <li>medal_id.SUM\n",
       "    <ul>\n",
       "    <li>formatter: INT[#,###]</li>\n",
       "    </ul>\n",
       "  </li>\n",
       "  <li>silver_medals.MEAN\n",
       "    <ul>\n",
       "    <li>formatter: DOUBLE[#,###.00]</li>\n",
       "    </ul>\n",
       "  </li>\n",
       "  <li>silver_medals.SUM\n",
       "    <ul>\n",
       "    <li>formatter: INT[#,###]</li>\n",
       "    </ul>\n",
       "  </li>\n",
       "  <li>year_id.MEAN\n",
       "    <ul>\n",
       "    <li>formatter: DOUBLE[#,###.00]</li>\n",
       "    </ul>\n",
       "  </li>\n",
       "  <li>year_id.SUM\n",
       "    <ul>\n",
       "    <li>formatter: INT[#,###]</li>\n",
       "    </ul>\n",
       "  </li>\n",
       "  </ul>\n",
       "</li>\n",
       "</ul>\n"
      ],
      "text/plain": [
       "{'contributors.COUNT': <atoti.measure.Measure object at 0x0000010FBB9D1460>, 'update.TIMESTAMP': <atoti.measure.Measure object at 0x0000010FBB8140D0>, 'gold_medals.MEAN': <atoti.measure.Measure object at 0x0000010FBB814DC0>, 'gold_medals.SUM': <atoti.measure.Measure object at 0x0000010FBB8148E0>, 'year_id.MEAN': <atoti.measure.Measure object at 0x0000010FBB8144C0>, 'year_id.SUM': <atoti.measure.Measure object at 0x0000010FBB814160>, 'athlete_id.MEAN': <atoti.measure.Measure object at 0x0000010FBB7BFBE0>, 'athlete_id.SUM': <atoti.measure.Measure object at 0x0000010FBB7BFD30>, 'bronze_medals.MEAN': <atoti.measure.Measure object at 0x0000010FBB7BFB80>, 'bronze_medals.SUM': <atoti.measure.Measure object at 0x0000010FBB7BF6D0>, 'silver_medals.MEAN': <atoti.measure.Measure object at 0x0000010FBB7BF1F0>, 'silver_medals.SUM': <atoti.measure.Measure object at 0x0000010FBB7BFA60>, 'event_id.MEAN': <atoti.measure.Measure object at 0x0000010FBB7BF700>, 'event_id.SUM': <atoti.measure.Measure object at 0x0000010FBB7BFAC0>, 'medal_id.MEAN': <atoti.measure.Measure object at 0x0000010FBB7BFC70>, 'medal_id.SUM': <atoti.measure.Measure object at 0x0000010FBB7BF280>}"
      ]
     },
     "execution_count": 15,
     "metadata": {
      "application/json": {
       "expanded": false,
       "root": "Measures"
      }
     },
     "output_type": "execute_result"
    }
   ],
   "source": [
    "measures"
   ]
  },
  {
   "cell_type": "code",
   "execution_count": 16,
   "metadata": {},
   "outputs": [],
   "source": [
    "# clean measures:\n",
    "del measures[\"athlete_id.MEAN\"]\n",
    "del measures[\"athlete_id.SUM\"]\n",
    "del measures[\"bronze_medals.MEAN\"]\n",
    "del measures[\"contributors.COUNT\"]\n",
    "del measures[\"event_id.MEAN\"]\n",
    "del measures[\"event_id.SUM\"]\n",
    "del measures[\"gold_medals.MEAN\"]\n",
    "#del measures[\"gold_medals.SUM\"]\n",
    "del measures[\"medal_id.MEAN\"]\n",
    "del measures[\"medal_id.SUM\"]\n",
    "del measures[\"silver_medals.MEAN\"]\n",
    "del measures[\"year_id.MEAN\"]\n",
    "del measures[\"year_id.SUM\"]"
   ]
  },
  {
   "cell_type": "code",
   "execution_count": null,
   "metadata": {},
   "outputs": [],
   "source": []
  },
  {
   "cell_type": "code",
   "execution_count": 17,
   "metadata": {},
   "outputs": [
    {
     "data": {
      "application/json": {
       "Dimensions": {
        "Athlete": {
         "Athlete": [
          "athlete_name",
          "gender"
         ]
        },
        "AthleteCountry": {
         "AthleteCountry": [
          "country_name",
          "continent"
         ]
        },
        "Event": {
         "Event": [
          "event_gender",
          "title",
          "discipline"
         ]
        },
        "Game": {
         "Game": [
          "game_name",
          "gamelocation"
         ]
        },
        "Medal": {
         "Medal": [
          "medal_type"
         ]
        },
        "Year": {
         "Year": [
          "season",
          "year"
         ]
        }
       },
       "Measures": {
        "bronze_medals.SUM": {
         "formatter": "INT[#,###]"
        },
        "gold_medals.SUM": {
         "formatter": "INT[#,###]"
        },
        "silver_medals.SUM": {
         "formatter": "INT[#,###]"
        }
       }
      },
      "text/html": [
       "<ul>\n",
       "<li>OlympicAthletes\n",
       "  <ul>\n",
       "  <li>Dimensions\n",
       "    <ul>\n",
       "    <li>Athlete\n",
       "      <ul>\n",
       "      <li>Athlete\n",
       "        <ol>\n",
       "        <li>athlete_name</li>\n",
       "        <li>gender</li>\n",
       "        </ol>      </li>\n",
       "      </ul>\n",
       "    </li>\n",
       "    <li>AthleteCountry\n",
       "      <ul>\n",
       "      <li>AthleteCountry\n",
       "        <ol>\n",
       "        <li>country_name</li>\n",
       "        <li>continent</li>\n",
       "        </ol>      </li>\n",
       "      </ul>\n",
       "    </li>\n",
       "    <li>Event\n",
       "      <ul>\n",
       "      <li>Event\n",
       "        <ol>\n",
       "        <li>event_gender</li>\n",
       "        <li>title</li>\n",
       "        <li>discipline</li>\n",
       "        </ol>      </li>\n",
       "      </ul>\n",
       "    </li>\n",
       "    <li>Game\n",
       "      <ul>\n",
       "      <li>Game\n",
       "        <ol>\n",
       "        <li>game_name</li>\n",
       "        <li>gamelocation</li>\n",
       "        </ol>      </li>\n",
       "      </ul>\n",
       "    </li>\n",
       "    <li>Medal\n",
       "      <ul>\n",
       "      <li>Medal\n",
       "        <ol>\n",
       "        <li>medal_type</li>\n",
       "        </ol>      </li>\n",
       "      </ul>\n",
       "    </li>\n",
       "    <li>Year\n",
       "      <ul>\n",
       "      <li>Year\n",
       "        <ol>\n",
       "        <li>season</li>\n",
       "        <li>year</li>\n",
       "        </ol>      </li>\n",
       "      </ul>\n",
       "    </li>\n",
       "    </ul>\n",
       "  </li>\n",
       "  <li>Measures\n",
       "    <ul>\n",
       "    <li>bronze_medals.SUM\n",
       "      <ul>\n",
       "      <li>formatter: INT[#,###]</li>\n",
       "      </ul>\n",
       "    </li>\n",
       "    <li>gold_medals.SUM\n",
       "      <ul>\n",
       "      <li>formatter: INT[#,###]</li>\n",
       "      </ul>\n",
       "    </li>\n",
       "    <li>silver_medals.SUM\n",
       "      <ul>\n",
       "      <li>formatter: INT[#,###]</li>\n",
       "      </ul>\n",
       "    </li>\n",
       "    </ul>\n",
       "  </li>\n",
       "  </ul>\n",
       "</li>\n",
       "</ul>\n"
      ],
      "text/plain": [
       "<atoti.cube.Cube at 0x10fbb6c3580>"
      ]
     },
     "execution_count": 17,
     "metadata": {
      "application/json": {
       "expanded": false,
       "root": "OlympicAthletes"
      }
     },
     "output_type": "execute_result"
    }
   ],
   "source": [
    "cube"
   ]
  },
  {
   "cell_type": "code",
   "execution_count": 18,
   "metadata": {},
   "outputs": [
    {
     "data": {
      "application/json": {
       "Athlete": {
        "Athlete": [
         "athlete_name",
         "gender"
        ]
       },
       "AthleteCountry": {
        "AthleteCountry": [
         "country_name",
         "continent"
        ]
       },
       "Event": {
        "Event": [
         "event_gender",
         "title",
         "discipline"
        ]
       },
       "Game": {
        "Game": [
         "game_name",
         "gamelocation"
        ]
       },
       "Medal": {
        "Medal": [
         "medal_type"
        ]
       },
       "Year": {
        "Year": [
         "year",
         "season"
        ]
       }
      },
      "text/html": [
       "<ul>\n",
       "<li>Dimensions\n",
       "  <ul>\n",
       "  <li>Athlete\n",
       "    <ul>\n",
       "    <li>Athlete\n",
       "      <ol>\n",
       "      <li>athlete_name</li>\n",
       "      <li>gender</li>\n",
       "      </ol>    </li>\n",
       "    </ul>\n",
       "  </li>\n",
       "  <li>AthleteCountry\n",
       "    <ul>\n",
       "    <li>AthleteCountry\n",
       "      <ol>\n",
       "      <li>country_name</li>\n",
       "      <li>continent</li>\n",
       "      </ol>    </li>\n",
       "    </ul>\n",
       "  </li>\n",
       "  <li>Event\n",
       "    <ul>\n",
       "    <li>Event\n",
       "      <ol>\n",
       "      <li>event_gender</li>\n",
       "      <li>title</li>\n",
       "      <li>discipline</li>\n",
       "      </ol>    </li>\n",
       "    </ul>\n",
       "  </li>\n",
       "  <li>Game\n",
       "    <ul>\n",
       "    <li>Game\n",
       "      <ol>\n",
       "      <li>game_name</li>\n",
       "      <li>gamelocation</li>\n",
       "      </ol>    </li>\n",
       "    </ul>\n",
       "  </li>\n",
       "  <li>Medal\n",
       "    <ul>\n",
       "    <li>Medal\n",
       "      <ol>\n",
       "      <li>medal_type</li>\n",
       "      </ol>    </li>\n",
       "    </ul>\n",
       "  </li>\n",
       "  <li>Year\n",
       "    <ul>\n",
       "    <li>Year\n",
       "      <ol>\n",
       "      <li>year</li>\n",
       "      <li>season</li>\n",
       "      </ol>    </li>\n",
       "    </ul>\n",
       "  </li>\n",
       "  </ul>\n",
       "</li>\n",
       "</ul>\n"
      ],
      "text/plain": [
       "{('Game', 'Game'): <atoti.hierarchy.Hierarchy object at 0x0000010FBB7BFBB0>, ('Year', 'Year'): <atoti.hierarchy.Hierarchy object at 0x0000010FBB7BF340>, ('AthleteCountry', 'AthleteCountry'): <atoti.hierarchy.Hierarchy object at 0x0000010FBB7BF4F0>, ('Medal', 'Medal'): <atoti.hierarchy.Hierarchy object at 0x0000010FBB7BF0A0>, ('Event', 'Event'): <atoti.hierarchy.Hierarchy object at 0x0000010FBB7D7580>, ('Athlete', 'Athlete'): <atoti.hierarchy.Hierarchy object at 0x0000010FBB7D7220>}"
      ]
     },
     "execution_count": 18,
     "metadata": {
      "application/json": {
       "expanded": true,
       "root": "Dimensions"
      }
     },
     "output_type": "execute_result"
    }
   ],
   "source": [
    "hierarchies[\"Year\"] = [levels[('Year', 'year')], levels[('Year', 'season')]]\n",
    "hierarchies"
   ]
  },
  {
   "cell_type": "code",
   "execution_count": 19,
   "metadata": {},
   "outputs": [
    {
     "data": {
      "application/json": {
       "athlete_name (Athlete/Athlete/athlete_name)": {
        "dimension": "Athlete",
        "hierarchy": "Athlete",
        "order": "NaturalOrder",
        "type": "String"
       },
       "continent (AthleteCountry/AthleteCountry/continent)": {
        "dimension": "AthleteCountry",
        "hierarchy": "AthleteCountry",
        "order": "NaturalOrder",
        "type": "String"
       },
       "country_name (AthleteCountry/AthleteCountry/country_name)": {
        "dimension": "AthleteCountry",
        "hierarchy": "AthleteCountry",
        "order": "NaturalOrder",
        "type": "String"
       },
       "discipline (Event/Event/discipline)": {
        "dimension": "Event",
        "hierarchy": "Event",
        "order": "NaturalOrder",
        "type": "String"
       },
       "event_gender (Event/Event/event_gender)": {
        "dimension": "Event",
        "hierarchy": "Event",
        "order": "NaturalOrder",
        "type": "String"
       },
       "game_name (Game/Game/game_name)": {
        "dimension": "Game",
        "hierarchy": "Game",
        "order": "NaturalOrder",
        "type": "String"
       },
       "gamelocation (Game/Game/gamelocation)": {
        "dimension": "Game",
        "hierarchy": "Game",
        "order": "NaturalOrder",
        "type": "String"
       },
       "gender (Athlete/Athlete/gender)": {
        "dimension": "Athlete",
        "hierarchy": "Athlete",
        "order": "NaturalOrder",
        "type": "String"
       },
       "medal_type (Medal/Medal/medal_type)": {
        "dimension": "Medal",
        "hierarchy": "Medal",
        "order": "NaturalOrder",
        "type": "String"
       },
       "season (Year/Year/season)": {
        "dimension": "Year",
        "hierarchy": "Year",
        "order": "NaturalOrder",
        "type": "String"
       },
       "title (Event/Event/title)": {
        "dimension": "Event",
        "hierarchy": "Event",
        "order": "NaturalOrder",
        "type": "String"
       },
       "year (Year/Year/year)": {
        "dimension": "Year",
        "hierarchy": "Year",
        "order": "NaturalOrder",
        "type": "String"
       }
      },
      "text/html": [
       "<ul>\n",
       "<li>Levels\n",
       "  <ul>\n",
       "  <li>athlete_name (Athlete/Athlete/athlete_name)\n",
       "    <ul>\n",
       "    <li>dimension: Athlete</li>\n",
       "    <li>hierarchy: Athlete</li>\n",
       "    <li>type: String</li>\n",
       "    <li>order: NaturalOrder</li>\n",
       "    </ul>\n",
       "  </li>\n",
       "  <li>continent (AthleteCountry/AthleteCountry/continent)\n",
       "    <ul>\n",
       "    <li>dimension: AthleteCountry</li>\n",
       "    <li>hierarchy: AthleteCountry</li>\n",
       "    <li>type: String</li>\n",
       "    <li>order: NaturalOrder</li>\n",
       "    </ul>\n",
       "  </li>\n",
       "  <li>country_name (AthleteCountry/AthleteCountry/country_name)\n",
       "    <ul>\n",
       "    <li>dimension: AthleteCountry</li>\n",
       "    <li>hierarchy: AthleteCountry</li>\n",
       "    <li>type: String</li>\n",
       "    <li>order: NaturalOrder</li>\n",
       "    </ul>\n",
       "  </li>\n",
       "  <li>discipline (Event/Event/discipline)\n",
       "    <ul>\n",
       "    <li>dimension: Event</li>\n",
       "    <li>hierarchy: Event</li>\n",
       "    <li>type: String</li>\n",
       "    <li>order: NaturalOrder</li>\n",
       "    </ul>\n",
       "  </li>\n",
       "  <li>event_gender (Event/Event/event_gender)\n",
       "    <ul>\n",
       "    <li>dimension: Event</li>\n",
       "    <li>hierarchy: Event</li>\n",
       "    <li>type: String</li>\n",
       "    <li>order: NaturalOrder</li>\n",
       "    </ul>\n",
       "  </li>\n",
       "  <li>game_name (Game/Game/game_name)\n",
       "    <ul>\n",
       "    <li>dimension: Game</li>\n",
       "    <li>hierarchy: Game</li>\n",
       "    <li>type: String</li>\n",
       "    <li>order: NaturalOrder</li>\n",
       "    </ul>\n",
       "  </li>\n",
       "  <li>gamelocation (Game/Game/gamelocation)\n",
       "    <ul>\n",
       "    <li>dimension: Game</li>\n",
       "    <li>hierarchy: Game</li>\n",
       "    <li>type: String</li>\n",
       "    <li>order: NaturalOrder</li>\n",
       "    </ul>\n",
       "  </li>\n",
       "  <li>gender (Athlete/Athlete/gender)\n",
       "    <ul>\n",
       "    <li>dimension: Athlete</li>\n",
       "    <li>hierarchy: Athlete</li>\n",
       "    <li>type: String</li>\n",
       "    <li>order: NaturalOrder</li>\n",
       "    </ul>\n",
       "  </li>\n",
       "  <li>medal_type (Medal/Medal/medal_type)\n",
       "    <ul>\n",
       "    <li>dimension: Medal</li>\n",
       "    <li>hierarchy: Medal</li>\n",
       "    <li>type: String</li>\n",
       "    <li>order: NaturalOrder</li>\n",
       "    </ul>\n",
       "  </li>\n",
       "  <li>season (Year/Year/season)\n",
       "    <ul>\n",
       "    <li>dimension: Year</li>\n",
       "    <li>hierarchy: Year</li>\n",
       "    <li>type: String</li>\n",
       "    <li>order: NaturalOrder</li>\n",
       "    </ul>\n",
       "  </li>\n",
       "  <li>title (Event/Event/title)\n",
       "    <ul>\n",
       "    <li>dimension: Event</li>\n",
       "    <li>hierarchy: Event</li>\n",
       "    <li>type: String</li>\n",
       "    <li>order: NaturalOrder</li>\n",
       "    </ul>\n",
       "  </li>\n",
       "  <li>year (Year/Year/year)\n",
       "    <ul>\n",
       "    <li>dimension: Year</li>\n",
       "    <li>hierarchy: Year</li>\n",
       "    <li>type: String</li>\n",
       "    <li>order: NaturalOrder</li>\n",
       "    </ul>\n",
       "  </li>\n",
       "  </ul>\n",
       "</li>\n",
       "</ul>\n"
      ],
      "text/plain": [
       "<atoti.levels.Levels at 0x10fbb63e700>"
      ]
     },
     "execution_count": 19,
     "metadata": {
      "application/json": {
       "expanded": true,
       "root": "Levels"
      }
     },
     "output_type": "execute_result"
    }
   ],
   "source": [
    "levels"
   ]
  },
  {
   "cell_type": "markdown",
   "metadata": {},
   "source": [
    "### Create Measures:"
   ]
  },
  {
   "cell_type": "code",
   "execution_count": 20,
   "metadata": {},
   "outputs": [],
   "source": [
    "# create measures GDP and health expenditure \n",
    "measures[\"GDP per Capita\"] = tt.agg.sum(economy_table[\"gdp_percapita\"])\n",
    "measures[\"Health Expenditure\"] = tt.agg.sum(economy_table[\"health_expenditure\"])\n",
    "# Create a new measure for the total medals\n",
    "measures[\"Total Medals.SUM\"] = measures[\"gold_medals.SUM\"] + measures[\"silver_medals.SUM\"] + measures[\"bronze_medals.SUM\"]\n",
    "\n"
   ]
  },
  {
   "cell_type": "markdown",
   "metadata": {},
   "source": [
    "### Query Measures"
   ]
  },
  {
   "cell_type": "code",
   "execution_count": 29,
   "metadata": {},
   "outputs": [
    {
     "data": {
      "text/html": [
       "<div>\n",
       "<style scoped>\n",
       "    .dataframe tbody tr th:only-of-type {\n",
       "        vertical-align: middle;\n",
       "    }\n",
       "\n",
       "    .dataframe tbody tr th {\n",
       "        vertical-align: top;\n",
       "    }\n",
       "\n",
       "    .dataframe thead th {\n",
       "        text-align: right;\n",
       "    }\n",
       "</style>\n",
       "<table border=\"1\" class=\"dataframe\">\n",
       "  <thead>\n",
       "    <tr style=\"text-align: right;\">\n",
       "      <th></th>\n",
       "      <th></th>\n",
       "      <th></th>\n",
       "      <th>gold_medals.SUM</th>\n",
       "    </tr>\n",
       "    <tr>\n",
       "      <th>event_gender</th>\n",
       "      <th>title</th>\n",
       "      <th>discipline</th>\n",
       "      <th></th>\n",
       "    </tr>\n",
       "  </thead>\n",
       "  <tbody>\n",
       "    <tr>\n",
       "      <th rowspan=\"5\" valign=\"top\">Men</th>\n",
       "      <th>+ 100kg (heavyweight) men</th>\n",
       "      <th>Judo</th>\n",
       "      <td>2</td>\n",
       "    </tr>\n",
       "    <tr>\n",
       "      <th>+ 80 kg men</th>\n",
       "      <th>Taekwondo</th>\n",
       "      <td>1</td>\n",
       "    </tr>\n",
       "    <tr>\n",
       "      <th>+ 91kg (super heavyweight) men</th>\n",
       "      <th>Boxing</th>\n",
       "      <td>2</td>\n",
       "    </tr>\n",
       "    <tr>\n",
       "      <th>+ 95kg (heavyweight) men</th>\n",
       "      <th>Judo</th>\n",
       "      <td>1</td>\n",
       "    </tr>\n",
       "    <tr>\n",
       "      <th>+105kg men</th>\n",
       "      <th>Weightlifting</th>\n",
       "      <td>1</td>\n",
       "    </tr>\n",
       "    <tr>\n",
       "      <th>...</th>\n",
       "      <th>...</th>\n",
       "      <th>...</th>\n",
       "      <td>...</td>\n",
       "    </tr>\n",
       "    <tr>\n",
       "      <th rowspan=\"5\" valign=\"top\">Women</th>\n",
       "      <th>vault women</th>\n",
       "      <th>Gymnastics Artistic</th>\n",
       "      <td>18</td>\n",
       "    </tr>\n",
       "    <tr>\n",
       "      <th>volleyball women</th>\n",
       "      <th>Volleyball</th>\n",
       "      <td>14</td>\n",
       "    </tr>\n",
       "    <tr>\n",
       "      <th>water polo women</th>\n",
       "      <th>Water Polo</th>\n",
       "      <td>5</td>\n",
       "    </tr>\n",
       "    <tr>\n",
       "      <th>épée individual women</th>\n",
       "      <th>Fencing</th>\n",
       "      <td>6</td>\n",
       "    </tr>\n",
       "    <tr>\n",
       "      <th>épée team women</th>\n",
       "      <th>Fencing</th>\n",
       "      <td>5</td>\n",
       "    </tr>\n",
       "  </tbody>\n",
       "</table>\n",
       "<p>1588 rows × 1 columns</p>\n",
       "</div>"
      ],
      "text/plain": [
       "                                                                                                      gold_medals.SUM\n",
       "event_gender                                       title                          discipline                         \n",
       "Men                                            ... + 100kg (heavyweight) men      Judo                              2\n",
       "                                                   + 80 kg men                    Taekwondo                         1\n",
       "                                                   + 91kg (super heavyweight) men Boxing                            2\n",
       "                                                   + 95kg (heavyweight) men       Judo                              1\n",
       "                                                   +105kg men                     Weightlifting                     1\n",
       "...                                                                                                               ...\n",
       "Women                                          ... vault women                    Gymnastics Artistic              18\n",
       "                                                   volleyball women               Volleyball                       14\n",
       "                                                   water polo women               Water Polo                        5\n",
       "                                                   épée individual women          Fencing                           6\n",
       "                                                   épée team women                Fencing                           5\n",
       "\n",
       "[1588 rows x 1 columns]"
      ]
     },
     "execution_count": 29,
     "metadata": {},
     "output_type": "execute_result"
    }
   ],
   "source": [
    "cube.query(measures[\"gold_medals.SUM\"], levels=[levels[\"discipline\"]])"
   ]
  },
  {
   "cell_type": "code",
   "execution_count": 22,
   "metadata": {},
   "outputs": [
    {
     "data": {
      "text/html": [
       "<div>\n",
       "<style scoped>\n",
       "    .dataframe tbody tr th:only-of-type {\n",
       "        vertical-align: middle;\n",
       "    }\n",
       "\n",
       "    .dataframe tbody tr th {\n",
       "        vertical-align: top;\n",
       "    }\n",
       "\n",
       "    .dataframe thead th {\n",
       "        text-align: right;\n",
       "    }\n",
       "</style>\n",
       "<table border=\"1\" class=\"dataframe\">\n",
       "  <thead>\n",
       "    <tr style=\"text-align: right;\">\n",
       "      <th></th>\n",
       "      <th></th>\n",
       "      <th>Total Medals.SUM</th>\n",
       "    </tr>\n",
       "    <tr>\n",
       "      <th>country_name</th>\n",
       "      <th>continent</th>\n",
       "      <th></th>\n",
       "    </tr>\n",
       "  </thead>\n",
       "  <tbody>\n",
       "    <tr>\n",
       "      <th>Afghanistan</th>\n",
       "      <th>Asia</th>\n",
       "      <td>2</td>\n",
       "    </tr>\n",
       "    <tr>\n",
       "      <th>Algeria</th>\n",
       "      <th>Africa</th>\n",
       "      <td>17</td>\n",
       "    </tr>\n",
       "    <tr>\n",
       "      <th>Argentina</th>\n",
       "      <th>South America</th>\n",
       "      <td>87</td>\n",
       "    </tr>\n",
       "    <tr>\n",
       "      <th>Armenia</th>\n",
       "      <th>Asia</th>\n",
       "      <td>18</td>\n",
       "    </tr>\n",
       "    <tr>\n",
       "      <th>Australasia</th>\n",
       "      <th>Oceania</th>\n",
       "      <td>12</td>\n",
       "    </tr>\n",
       "    <tr>\n",
       "      <th>...</th>\n",
       "      <th>...</th>\n",
       "      <td>...</td>\n",
       "    </tr>\n",
       "    <tr>\n",
       "      <th>Vietnam</th>\n",
       "      <th>Asia</th>\n",
       "      <td>4</td>\n",
       "    </tr>\n",
       "    <tr>\n",
       "      <th>Virgin Islands (U.S.)</th>\n",
       "      <th>North America</th>\n",
       "      <td>1</td>\n",
       "    </tr>\n",
       "    <tr>\n",
       "      <th>West Indies Federation</th>\n",
       "      <th>North America/Caribbean</th>\n",
       "      <td>2</td>\n",
       "    </tr>\n",
       "    <tr>\n",
       "      <th>Zambia</th>\n",
       "      <th>Africa</th>\n",
       "      <td>2</td>\n",
       "    </tr>\n",
       "    <tr>\n",
       "      <th>Zimbabwe</th>\n",
       "      <th>Africa</th>\n",
       "      <td>8</td>\n",
       "    </tr>\n",
       "  </tbody>\n",
       "</table>\n",
       "<p>147 rows × 1 columns</p>\n",
       "</div>"
      ],
      "text/plain": [
       "                                               Total Medals.SUM\n",
       "country_name           continent                               \n",
       "Afghanistan            Asia                                   2\n",
       "Algeria                Africa                                17\n",
       "Argentina              South America                         87\n",
       "Armenia                Asia                                  18\n",
       "Australasia            Oceania                               12\n",
       "...                                                         ...\n",
       "Vietnam                Asia                                   4\n",
       "Virgin Islands (U.S.)  North America                          1\n",
       "West Indies Federation North America/Caribbean                2\n",
       "Zambia                 Africa                                 2\n",
       "Zimbabwe               Africa                                 8\n",
       "\n",
       "[147 rows x 1 columns]"
      ]
     },
     "execution_count": 22,
     "metadata": {},
     "output_type": "execute_result"
    }
   ],
   "source": [
    "cube.query(measures[\"Total Medals.SUM\"], levels=[levels[\"continent\"]])"
   ]
  },
  {
   "cell_type": "code",
   "execution_count": 38,
   "metadata": {},
   "outputs": [
    {
     "data": {
      "text/html": [
       "<div>\n",
       "<style scoped>\n",
       "    .dataframe tbody tr th:only-of-type {\n",
       "        vertical-align: middle;\n",
       "    }\n",
       "\n",
       "    .dataframe tbody tr th {\n",
       "        vertical-align: top;\n",
       "    }\n",
       "\n",
       "    .dataframe thead th {\n",
       "        text-align: right;\n",
       "    }\n",
       "</style>\n",
       "<table border=\"1\" class=\"dataframe\">\n",
       "  <thead>\n",
       "    <tr style=\"text-align: right;\">\n",
       "      <th></th>\n",
       "      <th></th>\n",
       "      <th>GDP per Capita</th>\n",
       "    </tr>\n",
       "    <tr>\n",
       "      <th>country_name</th>\n",
       "      <th>continent</th>\n",
       "      <th></th>\n",
       "    </tr>\n",
       "  </thead>\n",
       "  <tbody>\n",
       "    <tr>\n",
       "      <th>Afghanistan</th>\n",
       "      <th>Asia</th>\n",
       "      <td>1,033.73</td>\n",
       "    </tr>\n",
       "    <tr>\n",
       "      <th>Algeria</th>\n",
       "      <th>Africa</th>\n",
       "      <td>57,020.67</td>\n",
       "    </tr>\n",
       "    <tr>\n",
       "      <th>Argentina</th>\n",
       "      <th>South America</th>\n",
       "      <td>739,189.25</td>\n",
       "    </tr>\n",
       "    <tr>\n",
       "      <th>Armenia</th>\n",
       "      <th>Asia</th>\n",
       "      <td>81,105.62</td>\n",
       "    </tr>\n",
       "    <tr>\n",
       "      <th>Australasia</th>\n",
       "      <th>Oceania</th>\n",
       "      <td>.00</td>\n",
       "    </tr>\n",
       "    <tr>\n",
       "      <th>...</th>\n",
       "      <th>...</th>\n",
       "      <td>...</td>\n",
       "    </tr>\n",
       "    <tr>\n",
       "      <th>Vietnam</th>\n",
       "      <th>Asia</th>\n",
       "      <td>14,345.39</td>\n",
       "    </tr>\n",
       "    <tr>\n",
       "      <th>Virgin Islands (U.S.)</th>\n",
       "      <th>North America</th>\n",
       "      <td>39,552.17</td>\n",
       "    </tr>\n",
       "    <tr>\n",
       "      <th>West Indies Federation</th>\n",
       "      <th>North America/Caribbean</th>\n",
       "      <td>.00</td>\n",
       "    </tr>\n",
       "    <tr>\n",
       "      <th>Zambia</th>\n",
       "      <th>Africa</th>\n",
       "      <td>1,913.66</td>\n",
       "    </tr>\n",
       "    <tr>\n",
       "      <th>Zimbabwe</th>\n",
       "      <th>Africa</th>\n",
       "      <td>10,981.57</td>\n",
       "    </tr>\n",
       "  </tbody>\n",
       "</table>\n",
       "<p>147 rows × 1 columns</p>\n",
       "</div>"
      ],
      "text/plain": [
       "                                               GDP per Capita\n",
       "country_name           continent                             \n",
       "Afghanistan            Asia                          1,033.73\n",
       "Algeria                Africa                       57,020.67\n",
       "Argentina              South America               739,189.25\n",
       "Armenia                Asia                         81,105.62\n",
       "Australasia            Oceania                            .00\n",
       "...                                                       ...\n",
       "Vietnam                Asia                         14,345.39\n",
       "Virgin Islands (U.S.)  North America                39,552.17\n",
       "West Indies Federation North America/Caribbean            .00\n",
       "Zambia                 Africa                        1,913.66\n",
       "Zimbabwe               Africa                       10,981.57\n",
       "\n",
       "[147 rows x 1 columns]"
      ]
     },
     "execution_count": 38,
     "metadata": {},
     "output_type": "execute_result"
    }
   ],
   "source": [
    "cube.query(measures[\"GDP per Capita\"], levels=[levels[\"continent\"]])"
   ]
  },
  {
   "cell_type": "code",
   "execution_count": 24,
   "metadata": {},
   "outputs": [
    {
     "data": {
      "text/markdown": [
       "```mermaid\n",
       "erDiagram\n",
       "  \"Game\" {\n",
       "    _ String PK \"game_id\"\n",
       "    _ String \"game_name\"\n",
       "    _ String \"gamelocation\"\n",
       "  }\n",
       "  \"Economy\" {\n",
       "    _ String PK \"economy_id\"\n",
       "    nullable double \"health_expenditure\"\n",
       "    nullable double \"gdp_percapita\"\n",
       "  }\n",
       "  \"Year\" {\n",
       "    _ int PK \"year_id\"\n",
       "    _ String \"year\"\n",
       "    _ String \"season\"\n",
       "  }\n",
       "  \"OlympicAthletes\" {\n",
       "    _ int PK \"record_id\"\n",
       "    nullable int \"athlete_id\"\n",
       "    _ String \"athlete_countrycode\"\n",
       "    nullable int \"event_id\"\n",
       "    nullable int \"medal_id\"\n",
       "    _ String \"game_id\"\n",
       "    nullable int \"year_id\"\n",
       "    _ String \"economy_id\"\n",
       "    nullable int \"gold_medals\"\n",
       "    nullable int \"silver_medals\"\n",
       "    nullable int \"bronze_medals\"\n",
       "  }\n",
       "  \"Event\" {\n",
       "    _ int PK \"event_id\"\n",
       "    _ String \"title\"\n",
       "    _ String \"event_gender\"\n",
       "    _ String \"discipline\"\n",
       "  }\n",
       "  \"Medal\" {\n",
       "    _ int PK \"medal_id\"\n",
       "    _ String \"medal_type\"\n",
       "  }\n",
       "  \"Athlete\" {\n",
       "    _ int PK \"athlete_id\"\n",
       "    _ String \"athlete_name\"\n",
       "    _ String \"gender\"\n",
       "  }\n",
       "  \"AthleteCountry\" {\n",
       "    _ String PK \"athlete_countrycode\"\n",
       "    _ String \"country_name\"\n",
       "    _ String \"continent\"\n",
       "  }\n",
       "  \"OlympicAthletes\" }o--o| \"Economy\" : \"`economy_id` == `economy_id`\"\n",
       "  \"OlympicAthletes\" }o--o| \"Event\" : \"`event_id` == `event_id`\"\n",
       "  \"OlympicAthletes\" }o--o| \"AthleteCountry\" : \"`athlete_countrycode` == `athlete_countrycode`\"\n",
       "  \"OlympicAthletes\" }o--o| \"Athlete\" : \"`athlete_id` == `athlete_id`\"\n",
       "  \"OlympicAthletes\" }o--o| \"Medal\" : \"`medal_id` == `medal_id`\"\n",
       "  \"OlympicAthletes\" }o--o| \"Year\" : \"`year_id` == `year_id`\"\n",
       "  \"OlympicAthletes\" }o--o| \"Game\" : \"`game_id` == `game_id`\"\n",
       "```\n"
      ],
      "text/plain": [
       "erDiagram\n",
       "  \"Game\" {\n",
       "    _ String PK \"game_id\"\n",
       "    _ String \"game_name\"\n",
       "    _ String \"gamelocation\"\n",
       "  }\n",
       "  \"Economy\" {\n",
       "    _ String PK \"economy_id\"\n",
       "    nullable double \"health_expenditure\"\n",
       "    nullable double \"gdp_percapita\"\n",
       "  }\n",
       "  \"Year\" {\n",
       "    _ int PK \"year_id\"\n",
       "    _ String \"year\"\n",
       "    _ String \"season\"\n",
       "  }\n",
       "  \"OlympicAthletes\" {\n",
       "    _ int PK \"record_id\"\n",
       "    nullable int \"athlete_id\"\n",
       "    _ String \"athlete_countrycode\"\n",
       "    nullable int \"event_id\"\n",
       "    nullable int \"medal_id\"\n",
       "    _ String \"game_id\"\n",
       "    nullable int \"year_id\"\n",
       "    _ String \"economy_id\"\n",
       "    nullable int \"gold_medals\"\n",
       "    nullable int \"silver_medals\"\n",
       "    nullable int \"bronze_medals\"\n",
       "  }\n",
       "  \"Event\" {\n",
       "    _ int PK \"event_id\"\n",
       "    _ String \"title\"\n",
       "    _ String \"event_gender\"\n",
       "    _ String \"discipline\"\n",
       "  }\n",
       "  \"Medal\" {\n",
       "    _ int PK \"medal_id\"\n",
       "    _ String \"medal_type\"\n",
       "  }\n",
       "  \"Athlete\" {\n",
       "    _ int PK \"athlete_id\"\n",
       "    _ String \"athlete_name\"\n",
       "    _ String \"gender\"\n",
       "  }\n",
       "  \"AthleteCountry\" {\n",
       "    _ String PK \"athlete_countrycode\"\n",
       "    _ String \"country_name\"\n",
       "    _ String \"continent\"\n",
       "  }\n",
       "  \"OlympicAthletes\" }o--o| \"Economy\" : \"`economy_id` == `economy_id`\"\n",
       "  \"OlympicAthletes\" }o--o| \"Event\" : \"`event_id` == `event_id`\"\n",
       "  \"OlympicAthletes\" }o--o| \"AthleteCountry\" : \"`athlete_countrycode` == `athlete_countrycode`\"\n",
       "  \"OlympicAthletes\" }o--o| \"Athlete\" : \"`athlete_id` == `athlete_id`\"\n",
       "  \"OlympicAthletes\" }o--o| \"Medal\" : \"`medal_id` == `medal_id`\"\n",
       "  \"OlympicAthletes\" }o--o| \"Year\" : \"`year_id` == `year_id`\"\n",
       "  \"OlympicAthletes\" }o--o| \"Game\" : \"`game_id` == `game_id`\""
      ]
     },
     "execution_count": 24,
     "metadata": {},
     "output_type": "execute_result"
    }
   ],
   "source": [
    "session.tables.schema"
   ]
  },
  {
   "cell_type": "code",
   "execution_count": null,
   "metadata": {},
   "outputs": [],
   "source": []
  }
 ],
 "metadata": {
  "kernelspec": {
   "display_name": "Python 3 (ipykernel)",
   "language": "python",
   "name": "python3"
  },
  "language_info": {
   "codemirror_mode": {
    "name": "ipython",
    "version": 3
   },
   "file_extension": ".py",
   "mimetype": "text/x-python",
   "name": "python",
   "nbconvert_exporter": "python",
   "pygments_lexer": "ipython3",
   "version": "3.9.12"
  }
 },
 "nbformat": 4,
 "nbformat_minor": 4
}
